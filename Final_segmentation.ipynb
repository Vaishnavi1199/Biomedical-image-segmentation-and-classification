{
  "nbformat": 4,
  "nbformat_minor": 0,
  "metadata": {
    "colab": {
      "name": "Final_segmentation.ipynb",
      "provenance": [],
      "authorship_tag": "ABX9TyMtSpnVbZkuGbXM5NK0yqou",
      "include_colab_link": true
    },
    "kernelspec": {
      "name": "python3",
      "display_name": "Python 3"
    },
    "accelerator": "GPU"
  },
  "cells": [
    {
      "cell_type": "markdown",
      "metadata": {
        "id": "view-in-github",
        "colab_type": "text"
      },
      "source": [
        "<a href=\"https://colab.research.google.com/github/Vaishnavi1199/Biomedical-image-segmentation-and-classification/blob/master/Final_segmentation.ipynb\" target=\"_parent\"><img src=\"https://colab.research.google.com/assets/colab-badge.svg\" alt=\"Open In Colab\"/></a>"
      ]
    },
    {
      "cell_type": "code",
      "metadata": {
        "id": "Kj0P16ZTBYHe",
        "colab_type": "code",
        "colab": {
          "base_uri": "https://localhost:8080/",
          "height": 121
        },
        "outputId": "56fbccfd-3074-4c6e-ff09-f8dfc0b704cd"
      },
      "source": [
        "from google.colab import drive\n",
        "drive.mount (\"/content/drive\")"
      ],
      "execution_count": 1,
      "outputs": [
        {
          "output_type": "stream",
          "text": [
            "Go to this URL in a browser: https://accounts.google.com/o/oauth2/auth?client_id=947318989803-6bn6qk8qdgf4n4g3pfee6491hc0brc4i.apps.googleusercontent.com&redirect_uri=urn%3aietf%3awg%3aoauth%3a2.0%3aoob&scope=email%20https%3a%2f%2fwww.googleapis.com%2fauth%2fdocs.test%20https%3a%2f%2fwww.googleapis.com%2fauth%2fdrive%20https%3a%2f%2fwww.googleapis.com%2fauth%2fdrive.photos.readonly%20https%3a%2f%2fwww.googleapis.com%2fauth%2fpeopleapi.readonly&response_type=code\n",
            "\n",
            "Enter your authorization code:\n",
            "··········\n",
            "Mounted at /content/drive\n"
          ],
          "name": "stdout"
        }
      ]
    },
    {
      "cell_type": "code",
      "metadata": {
        "id": "3wOlmzaqCB25",
        "colab_type": "code",
        "colab": {
          "base_uri": "https://localhost:8080/",
          "height": 34
        },
        "outputId": "a9bf2211-a9e8-4d93-d124-b2d5ea615d32"
      },
      "source": [
        "cd/content/drive/My Drive"
      ],
      "execution_count": 2,
      "outputs": [
        {
          "output_type": "stream",
          "text": [
            "/content/drive/My Drive\n"
          ],
          "name": "stdout"
        }
      ]
    },
    {
      "cell_type": "markdown",
      "metadata": {
        "id": "agBF6z7wM-wU",
        "colab_type": "text"
      },
      "source": [
        "Libraries"
      ]
    },
    {
      "cell_type": "code",
      "metadata": {
        "id": "B51tl9eTCEe8",
        "colab_type": "code",
        "colab": {}
      },
      "source": [
        "import os\n",
        "import random\n",
        "import pandas as pd\n",
        "import numpy as np\n",
        "import matplotlib.pyplot as plt\n",
        "plt.style.use(\"ggplot\")\n",
        "%matplotlib inline\n",
        "import cv2\n",
        "from pathlib import Path\n",
        "\n",
        "from tqdm import tqdm_notebook, tnrange\n",
        "from itertools import chain\n",
        "from skimage.io import imread, imshow, concatenate_images\n",
        "from skimage.transform import resize\n",
        "from skimage.morphology import label\n",
        "from sklearn.model_selection import train_test_split,StratifiedKFold\n",
        "\n",
        "import tensorflow as tf\n",
        "\n",
        "from keras.models import Model, load_model\n",
        "from keras.layers import Input, BatchNormalization, Activation, Dense, Dropout,Add,MaxPool2D,UpSampling2D,Concatenate\n",
        "from keras.layers.core import Lambda, RepeatVector, Reshape\n",
        "from keras.layers.convolutional import Conv2D, Conv2DTranspose\n",
        "from keras.layers.pooling import MaxPooling2D, GlobalMaxPool2D\n",
        "from keras.layers.merge import concatenate, add\n",
        "from keras.callbacks import EarlyStopping, ModelCheckpoint, ReduceLROnPlateau\n",
        "from keras.optimizers import Adam\n",
        "from keras.preprocessing.image import ImageDataGenerator, array_to_img, img_to_array, load_img\n",
        "from keras.initializers import RandomNormal\n",
        "\n",
        "import sys\n",
        "sys.path.insert(0, '/content/drive/My Drive/Keras-Group-Normalization-master')\n",
        "from group_norm import GroupNormalization"
      ],
      "execution_count": 3,
      "outputs": []
    },
    {
      "cell_type": "markdown",
      "metadata": {
        "id": "5mQcZyYtNBbh",
        "colab_type": "text"
      },
      "source": [
        "Data preparation"
      ]
    },
    {
      "cell_type": "code",
      "metadata": {
        "id": "u9iuXXTlCI1K",
        "colab_type": "code",
        "colab": {
          "base_uri": "https://localhost:8080/",
          "height": 50
        },
        "outputId": "4cdd3303-b707-442d-d27f-368f5dafdebf"
      },
      "source": [
        "X=[]\n",
        "y=[]\n",
        "width=256\n",
        "height=256\n",
        "for i in os.scandir(\"/content/drive/Shared drives/Ridhi and Vaishnavi/dataset_new1/segmentation_normal/train/image\"):\n",
        "  a=(str(Path(i)).split('/')[9]).split(\".\")[0]\n",
        "  img_arr=cv2.imread(f\"/content/drive/Shared drives/Ridhi and Vaishnavi/dataset_new1/segmentation_normal/train/image/{a}.png\", cv2.IMREAD_GRAYSCALE)\n",
        "  img_arr = cv2.resize(img_arr, (width, height))\n",
        "  new_arr = img_arr/255.0\n",
        "  X.append(new_arr)\n",
        "\n",
        "  truth_img_arr=cv2.imread(f\"/content/drive/Shared drives/Ridhi and Vaishnavi/dataset_new1/segmentation_normal/train/mask/{a}.png\", cv2.IMREAD_GRAYSCALE)\n",
        "  truth_new_arr = cv2.resize(truth_img_arr, (height, width))\n",
        "  truth_new_arr = truth_new_arr/255.0\n",
        "  y.append(truth_new_arr)\n",
        "\n",
        "print(len(X))\n",
        "print(len(y))"
      ],
      "execution_count": 4,
      "outputs": [
        {
          "output_type": "stream",
          "text": [
            "1240\n",
            "1240\n"
          ],
          "name": "stdout"
        }
      ]
    },
    {
      "cell_type": "code",
      "metadata": {
        "id": "VT3rcfpdCN5E",
        "colab_type": "code",
        "colab": {
          "base_uri": "https://localhost:8080/",
          "height": 50
        },
        "outputId": "01a927e9-d4a4-4c19-8a78-d862efe190aa"
      },
      "source": [
        "X = np.array(X).reshape(-1, width, height, 1)\n",
        "y = np.array(y).reshape(-1, width, height, 1)\n",
        "\n",
        "print(X.shape)\n",
        "print(y.shape)"
      ],
      "execution_count": 5,
      "outputs": [
        {
          "output_type": "stream",
          "text": [
            "(1240, 256, 256, 1)\n",
            "(1240, 256, 256, 1)\n"
          ],
          "name": "stdout"
        }
      ]
    },
    {
      "cell_type": "code",
      "metadata": {
        "id": "4d1My6V4CTPO",
        "colab_type": "code",
        "colab": {}
      },
      "source": [
        "np.save(\"/content/drive/Shared drives/Ridhi and Vaishnavi/Final/b_train.npy\",X)\n",
        "np.save(\"/content/drive/Shared drives/Ridhi and Vaishnavi/Final/m_train.npy\",y)"
      ],
      "execution_count": 6,
      "outputs": []
    },
    {
      "cell_type": "code",
      "metadata": {
        "id": "VNf2IE4uCX6y",
        "colab_type": "code",
        "colab": {
          "base_uri": "https://localhost:8080/",
          "height": 50
        },
        "outputId": "fadcda62-617b-4a7c-fba1-c586e22ad17c"
      },
      "source": [
        "X=[]\n",
        "y=[]\n",
        "width=256\n",
        "height=256\n",
        "for i in os.scandir(\"/content/drive/Shared drives/Ridhi and Vaishnavi/dataset_new1/segmentation_normal/test/image\"):\n",
        "  a=(str(Path(i)).split('/')[9]).split(\".\")[0]\n",
        "  img_arr=cv2.imread(f\"/content/drive/Shared drives/Ridhi and Vaishnavi/dataset_new1/segmentation_normal/test/image/{a}.png\", cv2.IMREAD_GRAYSCALE)\n",
        "  img_arr = cv2.resize(img_arr, (width, height))\n",
        "  new_arr = img_arr/255.0\n",
        "  X.append(new_arr)\n",
        "\n",
        "  truth_img_arr=cv2.imread(f\"/content/drive/Shared drives/Ridhi and Vaishnavi/dataset_new1/segmentation_normal/test/mask/{a}.png\", cv2.IMREAD_GRAYSCALE)\n",
        "  truth_new_arr = cv2.resize(truth_img_arr, (height, width))\n",
        "  truth_new_arr = truth_new_arr/255.0\n",
        "  y.append(truth_new_arr)\n",
        "\n",
        "print(len(X))\n",
        "print(len(y))"
      ],
      "execution_count": 8,
      "outputs": [
        {
          "output_type": "stream",
          "text": [
            "64\n",
            "64\n"
          ],
          "name": "stdout"
        }
      ]
    },
    {
      "cell_type": "code",
      "metadata": {
        "id": "jWDzNSepCYij",
        "colab_type": "code",
        "colab": {
          "base_uri": "https://localhost:8080/",
          "height": 50
        },
        "outputId": "1ea81876-596a-444b-8e20-f850eea37a28"
      },
      "source": [
        "X_test = np.array(X).reshape(-1, width, height, 1)\n",
        "y_test = np.array(y).reshape(-1, width, height, 1)\n",
        "\n",
        "print(X_test.shape)\n",
        "print(y_test.shape)"
      ],
      "execution_count": 10,
      "outputs": [
        {
          "output_type": "stream",
          "text": [
            "(64, 256, 256, 1)\n",
            "(64, 256, 256, 1)\n"
          ],
          "name": "stdout"
        }
      ]
    },
    {
      "cell_type": "code",
      "metadata": {
        "id": "uIcxU7DBCftR",
        "colab_type": "code",
        "colab": {}
      },
      "source": [
        "np.save(\"/content/drive/Shared drives/Ridhi and Vaishnavi/Final/b_test.npy\",X_test)\n",
        "np.save(\"/content/drive/Shared drives/Ridhi and Vaishnavi/Final/m_test.npy\",y_test)"
      ],
      "execution_count": 11,
      "outputs": []
    },
    {
      "cell_type": "markdown",
      "metadata": {
        "id": "ql9sKYOTNGqN",
        "colab_type": "text"
      },
      "source": [
        "Data Loading"
      ]
    },
    {
      "cell_type": "code",
      "metadata": {
        "id": "3sAfntqiDLtX",
        "colab_type": "code",
        "colab": {
          "base_uri": "https://localhost:8080/",
          "height": 84
        },
        "outputId": "2f302641-4363-44c2-9803-3bfefc266cc1"
      },
      "source": [
        "X_train= np.load(\"/content/drive/Shared drives/Ridhi and Vaishnavi/Final/b_train.npy\")\n",
        "y_train= np.load(\"/content/drive/Shared drives/Ridhi and Vaishnavi/Final/m_train.npy\")\n",
        "X_test= np.load(\"/content/drive/Shared drives/Ridhi and Vaishnavi/Final/b_test.npy\")\n",
        "y_test= np.load(\"/content/drive/Shared drives/Ridhi and Vaishnavi/Final/m_test.npy\")\n",
        "\n",
        "X_train.shape , y_train.shape , X_test.shape , y_test.shape"
      ],
      "execution_count": 4,
      "outputs": [
        {
          "output_type": "execute_result",
          "data": {
            "text/plain": [
              "((1240, 256, 256, 1),\n",
              " (1240, 256, 256, 1),\n",
              " (64, 256, 256, 1),\n",
              " (64, 256, 256, 1))"
            ]
          },
          "metadata": {
            "tags": []
          },
          "execution_count": 4
        }
      ]
    },
    {
      "cell_type": "markdown",
      "metadata": {
        "id": "YmX0B9zKNI3Z",
        "colab_type": "text"
      },
      "source": [
        "Model - U-NET with RESIDUAL NETWORK and GROUP NORMALIZATION"
      ]
    },
    {
      "cell_type": "code",
      "metadata": {
        "id": "spjReGhvDR5v",
        "colab_type": "code",
        "colab": {}
      },
      "source": [
        "def encoder(layer_in,filters):\n",
        "  \n",
        "  e= Conv2D(filters,kernel_size=3,strides=1,padding='same',kernel_initializer=RandomNormal(stddev=0.02),kernel_regularizer='l2')(layer_in)\n",
        "  #e= BatchNormalization(momentum=0.5)(e)\n",
        "  e= GroupNormalization(groups=8)(e)\n",
        "  e= Activation('relu')(e)\n",
        "\n",
        "  e= Conv2D(filters,kernel_size=3,strides=1,padding='same',kernel_initializer=RandomNormal(stddev=0.02),kernel_regularizer='l2')(e)\n",
        "  #e= BatchNormalization(momentum=0.5)(e)\n",
        "  e= GroupNormalization(groups=8)(e)\n",
        "  e= Activation('relu')(e)\n",
        "\n",
        "  f=Conv2D(filters,kernel_size=1,strides=1,kernel_initializer=RandomNormal(stddev=0.02),kernel_regularizer='l2')(layer_in)\n",
        "\n",
        "  add= Add()([e,f])\n",
        "\n",
        "  out=Activation('relu')(add)\n",
        "\n",
        "  maxpool=MaxPool2D(pool_size=(2,2))(out)\n",
        "  \n",
        "  return out,maxpool"
      ],
      "execution_count": 5,
      "outputs": []
    },
    {
      "cell_type": "code",
      "metadata": {
        "id": "9kh1CCwgDXln",
        "colab_type": "code",
        "colab": {}
      },
      "source": [
        "def upscale(layer_in,filters):\n",
        "  \n",
        "  d= UpSampling2D(size=(2,2))(layer_in)\n",
        "  d=Conv2D(filters,kernel_size=(2,2),strides=(1,1),padding='same',activation='relu',kernel_regularizer='l2')(d)\n",
        "  \n",
        "  return d"
      ],
      "execution_count": 6,
      "outputs": []
    },
    {
      "cell_type": "code",
      "metadata": {
        "id": "Ld0AM8jxDYR6",
        "colab_type": "code",
        "colab": {}
      },
      "source": [
        "def concat(layer_e,layer_d):\n",
        "\n",
        "  c=Concatenate()([layer_e,layer_d])\n",
        "\n",
        "  return c"
      ],
      "execution_count": 7,
      "outputs": []
    },
    {
      "cell_type": "code",
      "metadata": {
        "id": "BNZmUEpzDfF3",
        "colab_type": "code",
        "colab": {}
      },
      "source": [
        "def decoder(layer_in,filters,dropout=True):\n",
        "  \n",
        "  e= Conv2D(filters,kernel_size=3,strides=1,padding='same',kernel_initializer=RandomNormal(stddev=0.02),kernel_regularizer='l2')(layer_in)\n",
        "  #e= BatchNormalization(momentum=0.5)(e)\n",
        "  e= GroupNormalization(groups=8)(e)\n",
        "  if dropout:\n",
        "    e=Dropout(0.7)(e)\n",
        "  e= Activation('relu')(e)\n",
        "\n",
        "  e= Conv2D(filters,kernel_size=3,strides=1,padding='same',kernel_initializer=RandomNormal(stddev=0.02),kernel_regularizer='l2')(e)\n",
        "  #e= BatchNormalization(momentum=0.5)(e)\n",
        "  e= GroupNormalization(groups=8)(e)\n",
        "  if dropout:\n",
        "    e=Dropout(0.7)(e)\n",
        "  e= Activation('relu')(e)\n",
        "\n",
        "  f=Conv2D(filters,kernel_size=1,strides=1,kernel_initializer=RandomNormal(stddev=0.02),kernel_regularizer='l2')(layer_in)\n",
        "\n",
        "  add= Add()([e,f])\n",
        "\n",
        "  out=Activation('relu')(add)\n",
        "  \n",
        "  return out"
      ],
      "execution_count": 15,
      "outputs": []
    },
    {
      "cell_type": "code",
      "metadata": {
        "id": "66oveLcjDlX7",
        "colab_type": "code",
        "colab": {}
      },
      "source": [
        "def r_unet(image_shape):\n",
        "\n",
        "  #init = RandomNormal(stddev=0.02)\n",
        "  input= Input(shape=image_shape)\n",
        "\n",
        "  e1 , e1_maxpool = encoder(input,16)\n",
        "  e2 , e2_maxpool = encoder(e1_maxpool , 32)\n",
        "  e3 , e3_maxpool = encoder(e2_maxpool , 64)\n",
        "  e4 , e4_maxpool = encoder(e3_maxpool , 128)\n",
        "  e5 , e5_maxpool = encoder(e4_maxpool , 256)\n",
        "  e6 , _ = encoder(e5_maxpool , 512)\n",
        "  #e7 , _          = encoder(e6_maxpool , 512)       \n",
        "\n",
        "  #u6 = upscale(e7,256)\n",
        "  #c6 = concat(e6,u6)\n",
        "  #d6 = decoder(c6,256)\n",
        "\n",
        "  u5 = upscale(e6,256)\n",
        "  c5 = concat(e5,u5)\n",
        "  d5 = decoder(c5,256)\n",
        "\n",
        "  u4 = upscale(d5,128)\n",
        "  c4 = concat(e4,u4)\n",
        "  d4 = decoder(c4,128)\n",
        "\n",
        "  u3 = upscale(d4,64)\n",
        "  c3 = concat(e3,u3)\n",
        "  d3 = decoder(c3,64)\n",
        "\n",
        "  u2 = upscale(d3,32)\n",
        "  c2 = concat(e2,u2)\n",
        "  d2 = decoder(c2,32, dropout=False)\n",
        "\n",
        "  u1 = upscale(d2,16)\n",
        "  c1 = concat(e1,u1)\n",
        "  d1 = decoder(c1,16, dropout=False)\n",
        "\n",
        "  output=Conv2D(filters=1,kernel_size=(4,4),activation='sigmoid',padding='same',data_format=\"channels_last\")(d1)\n",
        "  out_image = Activation('tanh')(output)\n",
        "  model = Model(input, out_image)\n",
        "  model.summary()\n",
        "  return model"
      ],
      "execution_count": 16,
      "outputs": []
    },
    {
      "cell_type": "code",
      "metadata": {
        "id": "4oZBfnrKDpfr",
        "colab_type": "code",
        "colab": {
          "base_uri": "https://localhost:8080/",
          "height": 1000
        },
        "outputId": "54849d54-de54-40f0-b971-55322145b39f"
      },
      "source": [
        "model=r_unet((256,256,1))"
      ],
      "execution_count": 17,
      "outputs": [
        {
          "output_type": "stream",
          "text": [
            "Model: \"functional_3\"\n",
            "__________________________________________________________________________________________________\n",
            "Layer (type)                    Output Shape         Param #     Connected to                     \n",
            "==================================================================================================\n",
            "input_2 (InputLayer)            [(None, 256, 256, 1) 0                                            \n",
            "__________________________________________________________________________________________________\n",
            "conv2d_39 (Conv2D)              (None, 256, 256, 16) 160         input_2[0][0]                    \n",
            "__________________________________________________________________________________________________\n",
            "group_normalization_22 (GroupNo (None, 256, 256, 16) 32          conv2d_39[0][0]                  \n",
            "__________________________________________________________________________________________________\n",
            "activation_34 (Activation)      (None, 256, 256, 16) 0           group_normalization_22[0][0]     \n",
            "__________________________________________________________________________________________________\n",
            "conv2d_40 (Conv2D)              (None, 256, 256, 16) 2320        activation_34[0][0]              \n",
            "__________________________________________________________________________________________________\n",
            "group_normalization_23 (GroupNo (None, 256, 256, 16) 32          conv2d_40[0][0]                  \n",
            "__________________________________________________________________________________________________\n",
            "activation_35 (Activation)      (None, 256, 256, 16) 0           group_normalization_23[0][0]     \n",
            "__________________________________________________________________________________________________\n",
            "conv2d_41 (Conv2D)              (None, 256, 256, 16) 32          input_2[0][0]                    \n",
            "__________________________________________________________________________________________________\n",
            "add_11 (Add)                    (None, 256, 256, 16) 0           activation_35[0][0]              \n",
            "                                                                 conv2d_41[0][0]                  \n",
            "__________________________________________________________________________________________________\n",
            "activation_36 (Activation)      (None, 256, 256, 16) 0           add_11[0][0]                     \n",
            "__________________________________________________________________________________________________\n",
            "max_pooling2d_6 (MaxPooling2D)  (None, 128, 128, 16) 0           activation_36[0][0]              \n",
            "__________________________________________________________________________________________________\n",
            "conv2d_42 (Conv2D)              (None, 128, 128, 32) 4640        max_pooling2d_6[0][0]            \n",
            "__________________________________________________________________________________________________\n",
            "group_normalization_24 (GroupNo (None, 128, 128, 32) 64          conv2d_42[0][0]                  \n",
            "__________________________________________________________________________________________________\n",
            "activation_37 (Activation)      (None, 128, 128, 32) 0           group_normalization_24[0][0]     \n",
            "__________________________________________________________________________________________________\n",
            "conv2d_43 (Conv2D)              (None, 128, 128, 32) 9248        activation_37[0][0]              \n",
            "__________________________________________________________________________________________________\n",
            "group_normalization_25 (GroupNo (None, 128, 128, 32) 64          conv2d_43[0][0]                  \n",
            "__________________________________________________________________________________________________\n",
            "activation_38 (Activation)      (None, 128, 128, 32) 0           group_normalization_25[0][0]     \n",
            "__________________________________________________________________________________________________\n",
            "conv2d_44 (Conv2D)              (None, 128, 128, 32) 544         max_pooling2d_6[0][0]            \n",
            "__________________________________________________________________________________________________\n",
            "add_12 (Add)                    (None, 128, 128, 32) 0           activation_38[0][0]              \n",
            "                                                                 conv2d_44[0][0]                  \n",
            "__________________________________________________________________________________________________\n",
            "activation_39 (Activation)      (None, 128, 128, 32) 0           add_12[0][0]                     \n",
            "__________________________________________________________________________________________________\n",
            "max_pooling2d_7 (MaxPooling2D)  (None, 64, 64, 32)   0           activation_39[0][0]              \n",
            "__________________________________________________________________________________________________\n",
            "conv2d_45 (Conv2D)              (None, 64, 64, 64)   18496       max_pooling2d_7[0][0]            \n",
            "__________________________________________________________________________________________________\n",
            "group_normalization_26 (GroupNo (None, 64, 64, 64)   128         conv2d_45[0][0]                  \n",
            "__________________________________________________________________________________________________\n",
            "activation_40 (Activation)      (None, 64, 64, 64)   0           group_normalization_26[0][0]     \n",
            "__________________________________________________________________________________________________\n",
            "conv2d_46 (Conv2D)              (None, 64, 64, 64)   36928       activation_40[0][0]              \n",
            "__________________________________________________________________________________________________\n",
            "group_normalization_27 (GroupNo (None, 64, 64, 64)   128         conv2d_46[0][0]                  \n",
            "__________________________________________________________________________________________________\n",
            "activation_41 (Activation)      (None, 64, 64, 64)   0           group_normalization_27[0][0]     \n",
            "__________________________________________________________________________________________________\n",
            "conv2d_47 (Conv2D)              (None, 64, 64, 64)   2112        max_pooling2d_7[0][0]            \n",
            "__________________________________________________________________________________________________\n",
            "add_13 (Add)                    (None, 64, 64, 64)   0           activation_41[0][0]              \n",
            "                                                                 conv2d_47[0][0]                  \n",
            "__________________________________________________________________________________________________\n",
            "activation_42 (Activation)      (None, 64, 64, 64)   0           add_13[0][0]                     \n",
            "__________________________________________________________________________________________________\n",
            "max_pooling2d_8 (MaxPooling2D)  (None, 32, 32, 64)   0           activation_42[0][0]              \n",
            "__________________________________________________________________________________________________\n",
            "conv2d_48 (Conv2D)              (None, 32, 32, 128)  73856       max_pooling2d_8[0][0]            \n",
            "__________________________________________________________________________________________________\n",
            "group_normalization_28 (GroupNo (None, 32, 32, 128)  256         conv2d_48[0][0]                  \n",
            "__________________________________________________________________________________________________\n",
            "activation_43 (Activation)      (None, 32, 32, 128)  0           group_normalization_28[0][0]     \n",
            "__________________________________________________________________________________________________\n",
            "conv2d_49 (Conv2D)              (None, 32, 32, 128)  147584      activation_43[0][0]              \n",
            "__________________________________________________________________________________________________\n",
            "group_normalization_29 (GroupNo (None, 32, 32, 128)  256         conv2d_49[0][0]                  \n",
            "__________________________________________________________________________________________________\n",
            "activation_44 (Activation)      (None, 32, 32, 128)  0           group_normalization_29[0][0]     \n",
            "__________________________________________________________________________________________________\n",
            "conv2d_50 (Conv2D)              (None, 32, 32, 128)  8320        max_pooling2d_8[0][0]            \n",
            "__________________________________________________________________________________________________\n",
            "add_14 (Add)                    (None, 32, 32, 128)  0           activation_44[0][0]              \n",
            "                                                                 conv2d_50[0][0]                  \n",
            "__________________________________________________________________________________________________\n",
            "activation_45 (Activation)      (None, 32, 32, 128)  0           add_14[0][0]                     \n",
            "__________________________________________________________________________________________________\n",
            "max_pooling2d_9 (MaxPooling2D)  (None, 16, 16, 128)  0           activation_45[0][0]              \n",
            "__________________________________________________________________________________________________\n",
            "conv2d_51 (Conv2D)              (None, 16, 16, 256)  295168      max_pooling2d_9[0][0]            \n",
            "__________________________________________________________________________________________________\n",
            "group_normalization_30 (GroupNo (None, 16, 16, 256)  512         conv2d_51[0][0]                  \n",
            "__________________________________________________________________________________________________\n",
            "activation_46 (Activation)      (None, 16, 16, 256)  0           group_normalization_30[0][0]     \n",
            "__________________________________________________________________________________________________\n",
            "conv2d_52 (Conv2D)              (None, 16, 16, 256)  590080      activation_46[0][0]              \n",
            "__________________________________________________________________________________________________\n",
            "group_normalization_31 (GroupNo (None, 16, 16, 256)  512         conv2d_52[0][0]                  \n",
            "__________________________________________________________________________________________________\n",
            "activation_47 (Activation)      (None, 16, 16, 256)  0           group_normalization_31[0][0]     \n",
            "__________________________________________________________________________________________________\n",
            "conv2d_53 (Conv2D)              (None, 16, 16, 256)  33024       max_pooling2d_9[0][0]            \n",
            "__________________________________________________________________________________________________\n",
            "add_15 (Add)                    (None, 16, 16, 256)  0           activation_47[0][0]              \n",
            "                                                                 conv2d_53[0][0]                  \n",
            "__________________________________________________________________________________________________\n",
            "activation_48 (Activation)      (None, 16, 16, 256)  0           add_15[0][0]                     \n",
            "__________________________________________________________________________________________________\n",
            "max_pooling2d_10 (MaxPooling2D) (None, 8, 8, 256)    0           activation_48[0][0]              \n",
            "__________________________________________________________________________________________________\n",
            "conv2d_54 (Conv2D)              (None, 8, 8, 512)    1180160     max_pooling2d_10[0][0]           \n",
            "__________________________________________________________________________________________________\n",
            "group_normalization_32 (GroupNo (None, 8, 8, 512)    1024        conv2d_54[0][0]                  \n",
            "__________________________________________________________________________________________________\n",
            "activation_49 (Activation)      (None, 8, 8, 512)    0           group_normalization_32[0][0]     \n",
            "__________________________________________________________________________________________________\n",
            "conv2d_55 (Conv2D)              (None, 8, 8, 512)    2359808     activation_49[0][0]              \n",
            "__________________________________________________________________________________________________\n",
            "group_normalization_33 (GroupNo (None, 8, 8, 512)    1024        conv2d_55[0][0]                  \n",
            "__________________________________________________________________________________________________\n",
            "activation_50 (Activation)      (None, 8, 8, 512)    0           group_normalization_33[0][0]     \n",
            "__________________________________________________________________________________________________\n",
            "conv2d_56 (Conv2D)              (None, 8, 8, 512)    131584      max_pooling2d_10[0][0]           \n",
            "__________________________________________________________________________________________________\n",
            "add_16 (Add)                    (None, 8, 8, 512)    0           activation_50[0][0]              \n",
            "                                                                 conv2d_56[0][0]                  \n",
            "__________________________________________________________________________________________________\n",
            "activation_51 (Activation)      (None, 8, 8, 512)    0           add_16[0][0]                     \n",
            "__________________________________________________________________________________________________\n",
            "up_sampling2d_5 (UpSampling2D)  (None, 16, 16, 512)  0           activation_51[0][0]              \n",
            "__________________________________________________________________________________________________\n",
            "conv2d_57 (Conv2D)              (None, 16, 16, 256)  524544      up_sampling2d_5[0][0]            \n",
            "__________________________________________________________________________________________________\n",
            "concatenate_5 (Concatenate)     (None, 16, 16, 512)  0           activation_48[0][0]              \n",
            "                                                                 conv2d_57[0][0]                  \n",
            "__________________________________________________________________________________________________\n",
            "conv2d_58 (Conv2D)              (None, 16, 16, 256)  1179904     concatenate_5[0][0]              \n",
            "__________________________________________________________________________________________________\n",
            "group_normalization_34 (GroupNo (None, 16, 16, 256)  512         conv2d_58[0][0]                  \n",
            "__________________________________________________________________________________________________\n",
            "dropout_6 (Dropout)             (None, 16, 16, 256)  0           group_normalization_34[0][0]     \n",
            "__________________________________________________________________________________________________\n",
            "activation_52 (Activation)      (None, 16, 16, 256)  0           dropout_6[0][0]                  \n",
            "__________________________________________________________________________________________________\n",
            "conv2d_59 (Conv2D)              (None, 16, 16, 256)  590080      activation_52[0][0]              \n",
            "__________________________________________________________________________________________________\n",
            "group_normalization_35 (GroupNo (None, 16, 16, 256)  512         conv2d_59[0][0]                  \n",
            "__________________________________________________________________________________________________\n",
            "dropout_7 (Dropout)             (None, 16, 16, 256)  0           group_normalization_35[0][0]     \n",
            "__________________________________________________________________________________________________\n",
            "activation_53 (Activation)      (None, 16, 16, 256)  0           dropout_7[0][0]                  \n",
            "__________________________________________________________________________________________________\n",
            "conv2d_60 (Conv2D)              (None, 16, 16, 256)  131328      concatenate_5[0][0]              \n",
            "__________________________________________________________________________________________________\n",
            "add_17 (Add)                    (None, 16, 16, 256)  0           activation_53[0][0]              \n",
            "                                                                 conv2d_60[0][0]                  \n",
            "__________________________________________________________________________________________________\n",
            "activation_54 (Activation)      (None, 16, 16, 256)  0           add_17[0][0]                     \n",
            "__________________________________________________________________________________________________\n",
            "up_sampling2d_6 (UpSampling2D)  (None, 32, 32, 256)  0           activation_54[0][0]              \n",
            "__________________________________________________________________________________________________\n",
            "conv2d_61 (Conv2D)              (None, 32, 32, 128)  131200      up_sampling2d_6[0][0]            \n",
            "__________________________________________________________________________________________________\n",
            "concatenate_6 (Concatenate)     (None, 32, 32, 256)  0           activation_45[0][0]              \n",
            "                                                                 conv2d_61[0][0]                  \n",
            "__________________________________________________________________________________________________\n",
            "conv2d_62 (Conv2D)              (None, 32, 32, 128)  295040      concatenate_6[0][0]              \n",
            "__________________________________________________________________________________________________\n",
            "group_normalization_36 (GroupNo (None, 32, 32, 128)  256         conv2d_62[0][0]                  \n",
            "__________________________________________________________________________________________________\n",
            "dropout_8 (Dropout)             (None, 32, 32, 128)  0           group_normalization_36[0][0]     \n",
            "__________________________________________________________________________________________________\n",
            "activation_55 (Activation)      (None, 32, 32, 128)  0           dropout_8[0][0]                  \n",
            "__________________________________________________________________________________________________\n",
            "conv2d_63 (Conv2D)              (None, 32, 32, 128)  147584      activation_55[0][0]              \n",
            "__________________________________________________________________________________________________\n",
            "group_normalization_37 (GroupNo (None, 32, 32, 128)  256         conv2d_63[0][0]                  \n",
            "__________________________________________________________________________________________________\n",
            "dropout_9 (Dropout)             (None, 32, 32, 128)  0           group_normalization_37[0][0]     \n",
            "__________________________________________________________________________________________________\n",
            "activation_56 (Activation)      (None, 32, 32, 128)  0           dropout_9[0][0]                  \n",
            "__________________________________________________________________________________________________\n",
            "conv2d_64 (Conv2D)              (None, 32, 32, 128)  32896       concatenate_6[0][0]              \n",
            "__________________________________________________________________________________________________\n",
            "add_18 (Add)                    (None, 32, 32, 128)  0           activation_56[0][0]              \n",
            "                                                                 conv2d_64[0][0]                  \n",
            "__________________________________________________________________________________________________\n",
            "activation_57 (Activation)      (None, 32, 32, 128)  0           add_18[0][0]                     \n",
            "__________________________________________________________________________________________________\n",
            "up_sampling2d_7 (UpSampling2D)  (None, 64, 64, 128)  0           activation_57[0][0]              \n",
            "__________________________________________________________________________________________________\n",
            "conv2d_65 (Conv2D)              (None, 64, 64, 64)   32832       up_sampling2d_7[0][0]            \n",
            "__________________________________________________________________________________________________\n",
            "concatenate_7 (Concatenate)     (None, 64, 64, 128)  0           activation_42[0][0]              \n",
            "                                                                 conv2d_65[0][0]                  \n",
            "__________________________________________________________________________________________________\n",
            "conv2d_66 (Conv2D)              (None, 64, 64, 64)   73792       concatenate_7[0][0]              \n",
            "__________________________________________________________________________________________________\n",
            "group_normalization_38 (GroupNo (None, 64, 64, 64)   128         conv2d_66[0][0]                  \n",
            "__________________________________________________________________________________________________\n",
            "dropout_10 (Dropout)            (None, 64, 64, 64)   0           group_normalization_38[0][0]     \n",
            "__________________________________________________________________________________________________\n",
            "activation_58 (Activation)      (None, 64, 64, 64)   0           dropout_10[0][0]                 \n",
            "__________________________________________________________________________________________________\n",
            "conv2d_67 (Conv2D)              (None, 64, 64, 64)   36928       activation_58[0][0]              \n",
            "__________________________________________________________________________________________________\n",
            "group_normalization_39 (GroupNo (None, 64, 64, 64)   128         conv2d_67[0][0]                  \n",
            "__________________________________________________________________________________________________\n",
            "dropout_11 (Dropout)            (None, 64, 64, 64)   0           group_normalization_39[0][0]     \n",
            "__________________________________________________________________________________________________\n",
            "activation_59 (Activation)      (None, 64, 64, 64)   0           dropout_11[0][0]                 \n",
            "__________________________________________________________________________________________________\n",
            "conv2d_68 (Conv2D)              (None, 64, 64, 64)   8256        concatenate_7[0][0]              \n",
            "__________________________________________________________________________________________________\n",
            "add_19 (Add)                    (None, 64, 64, 64)   0           activation_59[0][0]              \n",
            "                                                                 conv2d_68[0][0]                  \n",
            "__________________________________________________________________________________________________\n",
            "activation_60 (Activation)      (None, 64, 64, 64)   0           add_19[0][0]                     \n",
            "__________________________________________________________________________________________________\n",
            "up_sampling2d_8 (UpSampling2D)  (None, 128, 128, 64) 0           activation_60[0][0]              \n",
            "__________________________________________________________________________________________________\n",
            "conv2d_69 (Conv2D)              (None, 128, 128, 32) 8224        up_sampling2d_8[0][0]            \n",
            "__________________________________________________________________________________________________\n",
            "concatenate_8 (Concatenate)     (None, 128, 128, 64) 0           activation_39[0][0]              \n",
            "                                                                 conv2d_69[0][0]                  \n",
            "__________________________________________________________________________________________________\n",
            "conv2d_70 (Conv2D)              (None, 128, 128, 32) 18464       concatenate_8[0][0]              \n",
            "__________________________________________________________________________________________________\n",
            "group_normalization_40 (GroupNo (None, 128, 128, 32) 64          conv2d_70[0][0]                  \n",
            "__________________________________________________________________________________________________\n",
            "activation_61 (Activation)      (None, 128, 128, 32) 0           group_normalization_40[0][0]     \n",
            "__________________________________________________________________________________________________\n",
            "conv2d_71 (Conv2D)              (None, 128, 128, 32) 9248        activation_61[0][0]              \n",
            "__________________________________________________________________________________________________\n",
            "group_normalization_41 (GroupNo (None, 128, 128, 32) 64          conv2d_71[0][0]                  \n",
            "__________________________________________________________________________________________________\n",
            "activation_62 (Activation)      (None, 128, 128, 32) 0           group_normalization_41[0][0]     \n",
            "__________________________________________________________________________________________________\n",
            "conv2d_72 (Conv2D)              (None, 128, 128, 32) 2080        concatenate_8[0][0]              \n",
            "__________________________________________________________________________________________________\n",
            "add_20 (Add)                    (None, 128, 128, 32) 0           activation_62[0][0]              \n",
            "                                                                 conv2d_72[0][0]                  \n",
            "__________________________________________________________________________________________________\n",
            "activation_63 (Activation)      (None, 128, 128, 32) 0           add_20[0][0]                     \n",
            "__________________________________________________________________________________________________\n",
            "up_sampling2d_9 (UpSampling2D)  (None, 256, 256, 32) 0           activation_63[0][0]              \n",
            "__________________________________________________________________________________________________\n",
            "conv2d_73 (Conv2D)              (None, 256, 256, 16) 2064        up_sampling2d_9[0][0]            \n",
            "__________________________________________________________________________________________________\n",
            "concatenate_9 (Concatenate)     (None, 256, 256, 32) 0           activation_36[0][0]              \n",
            "                                                                 conv2d_73[0][0]                  \n",
            "__________________________________________________________________________________________________\n",
            "conv2d_74 (Conv2D)              (None, 256, 256, 16) 4624        concatenate_9[0][0]              \n",
            "__________________________________________________________________________________________________\n",
            "group_normalization_42 (GroupNo (None, 256, 256, 16) 32          conv2d_74[0][0]                  \n",
            "__________________________________________________________________________________________________\n",
            "activation_64 (Activation)      (None, 256, 256, 16) 0           group_normalization_42[0][0]     \n",
            "__________________________________________________________________________________________________\n",
            "conv2d_75 (Conv2D)              (None, 256, 256, 16) 2320        activation_64[0][0]              \n",
            "__________________________________________________________________________________________________\n",
            "group_normalization_43 (GroupNo (None, 256, 256, 16) 32          conv2d_75[0][0]                  \n",
            "__________________________________________________________________________________________________\n",
            "activation_65 (Activation)      (None, 256, 256, 16) 0           group_normalization_43[0][0]     \n",
            "__________________________________________________________________________________________________\n",
            "conv2d_76 (Conv2D)              (None, 256, 256, 16) 528         concatenate_9[0][0]              \n",
            "__________________________________________________________________________________________________\n",
            "add_21 (Add)                    (None, 256, 256, 16) 0           activation_65[0][0]              \n",
            "                                                                 conv2d_76[0][0]                  \n",
            "__________________________________________________________________________________________________\n",
            "activation_66 (Activation)      (None, 256, 256, 16) 0           add_21[0][0]                     \n",
            "__________________________________________________________________________________________________\n",
            "conv2d_77 (Conv2D)              (None, 256, 256, 1)  257         activation_66[0][0]              \n",
            "__________________________________________________________________________________________________\n",
            "activation_67 (Activation)      (None, 256, 256, 1)  0           conv2d_77[0][0]                  \n",
            "==================================================================================================\n",
            "Total params: 8,132,273\n",
            "Trainable params: 8,132,273\n",
            "Non-trainable params: 0\n",
            "__________________________________________________________________________________________________\n"
          ],
          "name": "stdout"
        }
      ]
    },
    {
      "cell_type": "markdown",
      "metadata": {
        "id": "ThqBfQmZNU9c",
        "colab_type": "text"
      },
      "source": [
        "CUSTOM METRICS AND LOSS FUNCTION"
      ]
    },
    {
      "cell_type": "code",
      "metadata": {
        "id": "I6T5VNFLDvT8",
        "colab_type": "code",
        "colab": {}
      },
      "source": [
        "smooth=1\n",
        "#1) dice_loss\n",
        "def dice_loss(y_true,y_pred):\n",
        "  intersection= tf.keras.backend.sum(tf.keras.backend.abs(y_true * y_pred), axis=-1)\n",
        "  a = tf.keras.backend.sum(tf.keras.backend.square(y_true),axis=-1)\n",
        "  b = tf.keras.backend.sum(tf.keras.backend.square(y_pred),axis=-1)\n",
        "  return 1- (2*intersection+smooth)/(a+b+smooth)\n",
        "\n",
        "#2) dice_coef\n",
        "def dice_coef(y_true,y_pred):\n",
        "  intersection= tf.keras.backend.sum(tf.keras.backend.abs(y_true * y_pred), axis=-1)\n",
        "  a = tf.keras.backend.sum(tf.keras.backend.square(y_true),axis=-1)\n",
        "  b = tf.keras.backend.sum(tf.keras.backend.square(y_pred),axis=-1)\n",
        "  return (2*intersection+smooth)/(a+b+smooth)\n",
        "\n",
        "# 3) jaccard\n",
        "def jaccard_distance(y_true, y_pred):\n",
        "  intersection = tf.reduce_sum(y_true * y_pred, axis=(1,2))\n",
        "  sum_ = tf.reduce_sum(y_true + y_pred, axis=(1,2))\n",
        "  jac = (intersection) / (sum_ - intersection)\n",
        "  return tf.reduce_mean(jac)"
      ],
      "execution_count": 18,
      "outputs": []
    },
    {
      "cell_type": "markdown",
      "metadata": {
        "id": "tKJb48i1Nbsq",
        "colab_type": "text"
      },
      "source": [
        "COMPILE"
      ]
    },
    {
      "cell_type": "code",
      "metadata": {
        "id": "zw_3LPNWdQKn",
        "colab_type": "code",
        "colab": {}
      },
      "source": [
        "opt1=Adam(learning_rate=0.0001 , beta_1=0.5)\n",
        "model.compile(optimizer=opt1, loss=dice_loss, metrics=['accuracy', jaccard_distance , dice_coef])"
      ],
      "execution_count": 19,
      "outputs": []
    },
    {
      "cell_type": "markdown",
      "metadata": {
        "id": "Bgmdau_TNdG4",
        "colab_type": "text"
      },
      "source": [
        "CALLBACKS"
      ]
    },
    {
      "cell_type": "code",
      "metadata": {
        "id": "p1xmq1cKdbgK",
        "colab_type": "code",
        "colab": {}
      },
      "source": [
        "#callbacks\n",
        "callbacks = [EarlyStopping(patience=10, verbose=1,monitor='val_loss'),\n",
        "             ReduceLROnPlateau(factor=0.1, patience=5, min_lr=0.00001, verbose=1),\n",
        "             ModelCheckpoint('/content/drive/Shared drives/Ridhi and Vaishnavi/Final/segmentation-checkpoints/s-19.h5', verbose=1, save_best_only=True )]"
      ],
      "execution_count": 20,
      "outputs": []
    },
    {
      "cell_type": "markdown",
      "metadata": {
        "id": "xKiksMocNeo8",
        "colab_type": "text"
      },
      "source": [
        "TRAIN"
      ]
    },
    {
      "cell_type": "code",
      "metadata": {
        "id": "6r3z1b41du7v",
        "colab_type": "code",
        "colab": {
          "base_uri": "https://localhost:8080/",
          "height": 1000
        },
        "outputId": "6e0ce315-1ecd-42c4-9185-a9182ff42c5d"
      },
      "source": [
        "#fit\n",
        "results = model.fit(X_train, y_train , batch_size=16, epochs=200, verbose=1, callbacks=callbacks, validation_split=0.1 )"
      ],
      "execution_count": 21,
      "outputs": [
        {
          "output_type": "stream",
          "text": [
            "Epoch 1/200\n",
            "70/70 [==============================] - ETA: 0s - loss: 28.5581 - accuracy: 0.9393 - jaccard_distance: 0.0390 - dice_coef: 0.9544\n",
            "Epoch 00001: val_loss improved from inf to 21.80724, saving model to /content/drive/Shared drives/Ridhi and Vaishnavi/Final/segmentation-checkpoints/s-19.h5\n",
            "70/70 [==============================] - 32s 452ms/step - loss: 28.5581 - accuracy: 0.9393 - jaccard_distance: 0.0390 - dice_coef: 0.9544 - val_loss: 21.8072 - val_accuracy: 0.9602 - val_jaccard_distance: 0.0298 - val_dice_coef: 0.9791\n",
            "Epoch 2/200\n",
            "70/70 [==============================] - ETA: 0s - loss: 17.2698 - accuracy: 0.9436 - jaccard_distance: 0.0718 - dice_coef: 0.9773\n",
            "Epoch 00002: val_loss improved from 21.80724 to 13.30725, saving model to /content/drive/Shared drives/Ridhi and Vaishnavi/Final/segmentation-checkpoints/s-19.h5\n",
            "70/70 [==============================] - 30s 432ms/step - loss: 17.2698 - accuracy: 0.9436 - jaccard_distance: 0.0718 - dice_coef: 0.9773 - val_loss: 13.3072 - val_accuracy: 0.9612 - val_jaccard_distance: 0.1092 - val_dice_coef: 0.9849\n",
            "Epoch 3/200\n",
            "70/70 [==============================] - ETA: 0s - loss: 10.5971 - accuracy: 0.9492 - jaccard_distance: 0.1172 - dice_coef: 0.9808\n",
            "Epoch 00003: val_loss improved from 13.30725 to 8.21290, saving model to /content/drive/Shared drives/Ridhi and Vaishnavi/Final/segmentation-checkpoints/s-19.h5\n",
            "70/70 [==============================] - 30s 430ms/step - loss: 10.5971 - accuracy: 0.9492 - jaccard_distance: 0.1172 - dice_coef: 0.9808 - val_loss: 8.2129 - val_accuracy: 0.9650 - val_jaccard_distance: 0.0876 - val_dice_coef: 0.9869\n",
            "Epoch 4/200\n",
            "70/70 [==============================] - ETA: 0s - loss: 6.5722 - accuracy: 0.9497 - jaccard_distance: 0.1301 - dice_coef: 0.9813\n",
            "Epoch 00004: val_loss improved from 8.21290 to 5.12039, saving model to /content/drive/Shared drives/Ridhi and Vaishnavi/Final/segmentation-checkpoints/s-19.h5\n",
            "70/70 [==============================] - 30s 433ms/step - loss: 6.5722 - accuracy: 0.9497 - jaccard_distance: 0.1301 - dice_coef: 0.9813 - val_loss: 5.1204 - val_accuracy: 0.9609 - val_jaccard_distance: 0.1400 - val_dice_coef: 0.9857\n",
            "Epoch 5/200\n",
            "70/70 [==============================] - ETA: 0s - loss: 4.1167 - accuracy: 0.9511 - jaccard_distance: 0.1444 - dice_coef: 0.9821\n",
            "Epoch 00005: val_loss improved from 5.12039 to 3.22445, saving model to /content/drive/Shared drives/Ridhi and Vaishnavi/Final/segmentation-checkpoints/s-19.h5\n",
            "70/70 [==============================] - 30s 430ms/step - loss: 4.1167 - accuracy: 0.9511 - jaccard_distance: 0.1444 - dice_coef: 0.9821 - val_loss: 3.2244 - val_accuracy: 0.9645 - val_jaccard_distance: 0.1058 - val_dice_coef: 0.9868\n",
            "Epoch 6/200\n",
            "70/70 [==============================] - ETA: 0s - loss: 2.6093 - accuracy: 0.9507 - jaccard_distance: 0.1428 - dice_coef: 0.9819\n",
            "Epoch 00006: val_loss improved from 3.22445 to 2.05753, saving model to /content/drive/Shared drives/Ridhi and Vaishnavi/Final/segmentation-checkpoints/s-19.h5\n",
            "70/70 [==============================] - 30s 429ms/step - loss: 2.6093 - accuracy: 0.9507 - jaccard_distance: 0.1428 - dice_coef: 0.9819 - val_loss: 2.0575 - val_accuracy: 0.9628 - val_jaccard_distance: 0.0781 - val_dice_coef: 0.9860\n",
            "Epoch 7/200\n",
            "70/70 [==============================] - ETA: 0s - loss: 1.6761 - accuracy: 0.9519 - jaccard_distance: 0.1576 - dice_coef: 0.9826\n",
            "Epoch 00007: val_loss improved from 2.05753 to 1.33070, saving model to /content/drive/Shared drives/Ridhi and Vaishnavi/Final/segmentation-checkpoints/s-19.h5\n",
            "70/70 [==============================] - 30s 429ms/step - loss: 1.6761 - accuracy: 0.9519 - jaccard_distance: 0.1576 - dice_coef: 0.9826 - val_loss: 1.3307 - val_accuracy: 0.9657 - val_jaccard_distance: 0.1362 - val_dice_coef: 0.9877\n",
            "Epoch 8/200\n",
            "70/70 [==============================] - ETA: 0s - loss: 1.0966 - accuracy: 0.9504 - jaccard_distance: 0.1513 - dice_coef: 0.9820\n",
            "Epoch 00008: val_loss improved from 1.33070 to 0.88044, saving model to /content/drive/Shared drives/Ridhi and Vaishnavi/Final/segmentation-checkpoints/s-19.h5\n",
            "70/70 [==============================] - 30s 429ms/step - loss: 1.0966 - accuracy: 0.9504 - jaccard_distance: 0.1513 - dice_coef: 0.9820 - val_loss: 0.8804 - val_accuracy: 0.9631 - val_jaccard_distance: 0.0856 - val_dice_coef: 0.9866\n",
            "Epoch 9/200\n",
            "70/70 [==============================] - ETA: 0s - loss: 0.7315 - accuracy: 0.9524 - jaccard_distance: 0.1616 - dice_coef: 0.9830\n",
            "Epoch 00009: val_loss improved from 0.88044 to 0.59162, saving model to /content/drive/Shared drives/Ridhi and Vaishnavi/Final/segmentation-checkpoints/s-19.h5\n",
            "70/70 [==============================] - 30s 429ms/step - loss: 0.7315 - accuracy: 0.9524 - jaccard_distance: 0.1616 - dice_coef: 0.9830 - val_loss: 0.5916 - val_accuracy: 0.9657 - val_jaccard_distance: 0.1385 - val_dice_coef: 0.9879\n",
            "Epoch 10/200\n",
            "70/70 [==============================] - ETA: 0s - loss: 0.5011 - accuracy: 0.9515 - jaccard_distance: 0.1651 - dice_coef: 0.9827\n",
            "Epoch 00010: val_loss improved from 0.59162 to 0.40834, saving model to /content/drive/Shared drives/Ridhi and Vaishnavi/Final/segmentation-checkpoints/s-19.h5\n",
            "70/70 [==============================] - 30s 429ms/step - loss: 0.5011 - accuracy: 0.9515 - jaccard_distance: 0.1651 - dice_coef: 0.9827 - val_loss: 0.4083 - val_accuracy: 0.9667 - val_jaccard_distance: 0.1687 - val_dice_coef: 0.9885\n",
            "Epoch 11/200\n",
            "70/70 [==============================] - ETA: 0s - loss: 0.3520 - accuracy: 0.9521 - jaccard_distance: 0.1681 - dice_coef: 0.9829\n",
            "Epoch 00011: val_loss improved from 0.40834 to 0.29074, saving model to /content/drive/Shared drives/Ridhi and Vaishnavi/Final/segmentation-checkpoints/s-19.h5\n",
            "70/70 [==============================] - 30s 430ms/step - loss: 0.3520 - accuracy: 0.9521 - jaccard_distance: 0.1681 - dice_coef: 0.9829 - val_loss: 0.2907 - val_accuracy: 0.9660 - val_jaccard_distance: 0.1442 - val_dice_coef: 0.9881\n",
            "Epoch 12/200\n",
            "70/70 [==============================] - ETA: 0s - loss: 0.2539 - accuracy: 0.9533 - jaccard_distance: 0.1768 - dice_coef: 0.9836\n",
            "Epoch 00012: val_loss improved from 0.29074 to 0.21182, saving model to /content/drive/Shared drives/Ridhi and Vaishnavi/Final/segmentation-checkpoints/s-19.h5\n",
            "70/70 [==============================] - 30s 429ms/step - loss: 0.2539 - accuracy: 0.9533 - jaccard_distance: 0.1768 - dice_coef: 0.9836 - val_loss: 0.2118 - val_accuracy: 0.9666 - val_jaccard_distance: 0.1728 - val_dice_coef: 0.9883\n",
            "Epoch 13/200\n",
            "70/70 [==============================] - ETA: 0s - loss: 0.1915 - accuracy: 0.9508 - jaccard_distance: 0.1584 - dice_coef: 0.9823\n",
            "Epoch 00013: val_loss improved from 0.21182 to 0.16346, saving model to /content/drive/Shared drives/Ridhi and Vaishnavi/Final/segmentation-checkpoints/s-19.h5\n",
            "70/70 [==============================] - 30s 430ms/step - loss: 0.1915 - accuracy: 0.9508 - jaccard_distance: 0.1584 - dice_coef: 0.9823 - val_loss: 0.1635 - val_accuracy: 0.9605 - val_jaccard_distance: 0.1490 - val_dice_coef: 0.9856\n",
            "Epoch 14/200\n",
            "70/70 [==============================] - ETA: 0s - loss: 0.1461 - accuracy: 0.9525 - jaccard_distance: 0.1717 - dice_coef: 0.9832\n",
            "Epoch 00014: val_loss improved from 0.16346 to 0.12383, saving model to /content/drive/Shared drives/Ridhi and Vaishnavi/Final/segmentation-checkpoints/s-19.h5\n",
            "70/70 [==============================] - 30s 429ms/step - loss: 0.1461 - accuracy: 0.9525 - jaccard_distance: 0.1717 - dice_coef: 0.9832 - val_loss: 0.1238 - val_accuracy: 0.9659 - val_jaccard_distance: 0.1501 - val_dice_coef: 0.9881\n",
            "Epoch 15/200\n",
            "70/70 [==============================] - ETA: 0s - loss: 0.1159 - accuracy: 0.9519 - jaccard_distance: 0.1695 - dice_coef: 0.9829\n",
            "Epoch 00015: val_loss improved from 0.12383 to 0.09741, saving model to /content/drive/Shared drives/Ridhi and Vaishnavi/Final/segmentation-checkpoints/s-19.h5\n",
            "70/70 [==============================] - 30s 430ms/step - loss: 0.1159 - accuracy: 0.9519 - jaccard_distance: 0.1695 - dice_coef: 0.9829 - val_loss: 0.0974 - val_accuracy: 0.9669 - val_jaccard_distance: 0.1797 - val_dice_coef: 0.9886\n",
            "Epoch 16/200\n",
            "70/70 [==============================] - ETA: 0s - loss: 0.0921 - accuracy: 0.9544 - jaccard_distance: 0.1900 - dice_coef: 0.9841\n",
            "Epoch 00016: val_loss improved from 0.09741 to 0.07905, saving model to /content/drive/Shared drives/Ridhi and Vaishnavi/Final/segmentation-checkpoints/s-19.h5\n",
            "70/70 [==============================] - 30s 429ms/step - loss: 0.0921 - accuracy: 0.9544 - jaccard_distance: 0.1900 - dice_coef: 0.9841 - val_loss: 0.0791 - val_accuracy: 0.9666 - val_jaccard_distance: 0.1851 - val_dice_coef: 0.9886\n",
            "Epoch 17/200\n",
            "70/70 [==============================] - ETA: 0s - loss: 0.0799 - accuracy: 0.9480 - jaccard_distance: 0.1304 - dice_coef: 0.9806\n",
            "Epoch 00017: val_loss improved from 0.07905 to 0.06717, saving model to /content/drive/Shared drives/Ridhi and Vaishnavi/Final/segmentation-checkpoints/s-19.h5\n",
            "70/70 [==============================] - 30s 429ms/step - loss: 0.0799 - accuracy: 0.9480 - jaccard_distance: 0.1304 - dice_coef: 0.9806 - val_loss: 0.0672 - val_accuracy: 0.9628 - val_jaccard_distance: 0.1282 - val_dice_coef: 0.9863\n",
            "Epoch 18/200\n",
            "70/70 [==============================] - ETA: 0s - loss: 0.0695 - accuracy: 0.9446 - jaccard_distance: 0.1065 - dice_coef: 0.9790\n",
            "Epoch 00018: val_loss improved from 0.06717 to 0.05701, saving model to /content/drive/Shared drives/Ridhi and Vaishnavi/Final/segmentation-checkpoints/s-19.h5\n",
            "70/70 [==============================] - 30s 428ms/step - loss: 0.0695 - accuracy: 0.9446 - jaccard_distance: 0.1065 - dice_coef: 0.9790 - val_loss: 0.0570 - val_accuracy: 0.9623 - val_jaccard_distance: 0.1597 - val_dice_coef: 0.9861\n",
            "Epoch 19/200\n",
            "70/70 [==============================] - ETA: 0s - loss: 0.0601 - accuracy: 0.9454 - jaccard_distance: 0.1123 - dice_coef: 0.9795\n",
            "Epoch 00019: val_loss improved from 0.05701 to 0.04802, saving model to /content/drive/Shared drives/Ridhi and Vaishnavi/Final/segmentation-checkpoints/s-19.h5\n",
            "70/70 [==============================] - 30s 430ms/step - loss: 0.0601 - accuracy: 0.9454 - jaccard_distance: 0.1123 - dice_coef: 0.9795 - val_loss: 0.0480 - val_accuracy: 0.9644 - val_jaccard_distance: 0.1429 - val_dice_coef: 0.9873\n",
            "Epoch 20/200\n",
            "70/70 [==============================] - ETA: 0s - loss: 0.0507 - accuracy: 0.9505 - jaccard_distance: 0.1646 - dice_coef: 0.9823\n",
            "Epoch 00020: val_loss improved from 0.04802 to 0.04167, saving model to /content/drive/Shared drives/Ridhi and Vaishnavi/Final/segmentation-checkpoints/s-19.h5\n",
            "70/70 [==============================] - 30s 429ms/step - loss: 0.0507 - accuracy: 0.9505 - jaccard_distance: 0.1646 - dice_coef: 0.9823 - val_loss: 0.0417 - val_accuracy: 0.9651 - val_jaccard_distance: 0.1799 - val_dice_coef: 0.9879\n",
            "Epoch 21/200\n",
            "70/70 [==============================] - ETA: 0s - loss: 0.0440 - accuracy: 0.9518 - jaccard_distance: 0.1760 - dice_coef: 0.9830\n",
            "Epoch 00021: val_loss improved from 0.04167 to 0.03899, saving model to /content/drive/Shared drives/Ridhi and Vaishnavi/Final/segmentation-checkpoints/s-19.h5\n",
            "70/70 [==============================] - 30s 429ms/step - loss: 0.0440 - accuracy: 0.9518 - jaccard_distance: 0.1760 - dice_coef: 0.9830 - val_loss: 0.0390 - val_accuracy: 0.9632 - val_jaccard_distance: 0.1479 - val_dice_coef: 0.9866\n",
            "Epoch 22/200\n",
            "70/70 [==============================] - ETA: 0s - loss: 0.0400 - accuracy: 0.9521 - jaccard_distance: 0.1781 - dice_coef: 0.9831\n",
            "Epoch 00022: val_loss improved from 0.03899 to 0.03292, saving model to /content/drive/Shared drives/Ridhi and Vaishnavi/Final/segmentation-checkpoints/s-19.h5\n",
            "70/70 [==============================] - 30s 428ms/step - loss: 0.0400 - accuracy: 0.9521 - jaccard_distance: 0.1781 - dice_coef: 0.9831 - val_loss: 0.0329 - val_accuracy: 0.9651 - val_jaccard_distance: 0.1578 - val_dice_coef: 0.9878\n",
            "Epoch 23/200\n",
            "70/70 [==============================] - ETA: 0s - loss: 0.0361 - accuracy: 0.9518 - jaccard_distance: 0.1818 - dice_coef: 0.9831\n",
            "Epoch 00023: val_loss improved from 0.03292 to 0.02953, saving model to /content/drive/Shared drives/Ridhi and Vaishnavi/Final/segmentation-checkpoints/s-19.h5\n",
            "70/70 [==============================] - 30s 428ms/step - loss: 0.0361 - accuracy: 0.9518 - jaccard_distance: 0.1818 - dice_coef: 0.9831 - val_loss: 0.0295 - val_accuracy: 0.9668 - val_jaccard_distance: 0.1863 - val_dice_coef: 0.9886\n",
            "Epoch 24/200\n",
            "70/70 [==============================] - ETA: 0s - loss: 0.0335 - accuracy: 0.9528 - jaccard_distance: 0.1865 - dice_coef: 0.9835\n",
            "Epoch 00024: val_loss improved from 0.02953 to 0.02696, saving model to /content/drive/Shared drives/Ridhi and Vaishnavi/Final/segmentation-checkpoints/s-19.h5\n",
            "70/70 [==============================] - 30s 430ms/step - loss: 0.0335 - accuracy: 0.9528 - jaccard_distance: 0.1865 - dice_coef: 0.9835 - val_loss: 0.0270 - val_accuracy: 0.9659 - val_jaccard_distance: 0.1883 - val_dice_coef: 0.9884\n",
            "Epoch 25/200\n",
            "70/70 [==============================] - ETA: 0s - loss: 0.0301 - accuracy: 0.9539 - jaccard_distance: 0.1955 - dice_coef: 0.9840\n",
            "Epoch 00025: val_loss improved from 0.02696 to 0.02375, saving model to /content/drive/Shared drives/Ridhi and Vaishnavi/Final/segmentation-checkpoints/s-19.h5\n",
            "70/70 [==============================] - 31s 439ms/step - loss: 0.0301 - accuracy: 0.9539 - jaccard_distance: 0.1955 - dice_coef: 0.9840 - val_loss: 0.0238 - val_accuracy: 0.9674 - val_jaccard_distance: 0.2041 - val_dice_coef: 0.9890\n",
            "Epoch 26/200\n",
            "70/70 [==============================] - ETA: 0s - loss: 0.0278 - accuracy: 0.9545 - jaccard_distance: 0.2060 - dice_coef: 0.9844\n",
            "Epoch 00026: val_loss improved from 0.02375 to 0.02255, saving model to /content/drive/Shared drives/Ridhi and Vaishnavi/Final/segmentation-checkpoints/s-19.h5\n",
            "70/70 [==============================] - 30s 430ms/step - loss: 0.0278 - accuracy: 0.9545 - jaccard_distance: 0.2060 - dice_coef: 0.9844 - val_loss: 0.0226 - val_accuracy: 0.9665 - val_jaccard_distance: 0.2215 - val_dice_coef: 0.9886\n",
            "Epoch 27/200\n",
            "70/70 [==============================] - ETA: 0s - loss: 0.0262 - accuracy: 0.9546 - jaccard_distance: 0.2094 - dice_coef: 0.9843\n",
            "Epoch 00027: val_loss improved from 0.02255 to 0.02086, saving model to /content/drive/Shared drives/Ridhi and Vaishnavi/Final/segmentation-checkpoints/s-19.h5\n",
            "70/70 [==============================] - 30s 429ms/step - loss: 0.0262 - accuracy: 0.9546 - jaccard_distance: 0.2094 - dice_coef: 0.9843 - val_loss: 0.0209 - val_accuracy: 0.9671 - val_jaccard_distance: 0.2214 - val_dice_coef: 0.9888\n",
            "Epoch 28/200\n",
            "70/70 [==============================] - ETA: 0s - loss: 0.0267 - accuracy: 0.9542 - jaccard_distance: 0.2049 - dice_coef: 0.9841\n",
            "Epoch 00028: val_loss did not improve from 0.02086\n",
            "70/70 [==============================] - 29s 410ms/step - loss: 0.0267 - accuracy: 0.9542 - jaccard_distance: 0.2049 - dice_coef: 0.9841 - val_loss: 0.0272 - val_accuracy: 0.9579 - val_jaccard_distance: 0.1835 - val_dice_coef: 0.9833\n",
            "Epoch 29/200\n",
            "70/70 [==============================] - ETA: 0s - loss: 0.0304 - accuracy: 0.9435 - jaccard_distance: 0.1145 - dice_coef: 0.9787\n",
            "Epoch 00029: val_loss did not improve from 0.02086\n",
            "70/70 [==============================] - 29s 410ms/step - loss: 0.0304 - accuracy: 0.9435 - jaccard_distance: 0.1145 - dice_coef: 0.9787 - val_loss: 0.0219 - val_accuracy: 0.9609 - val_jaccard_distance: 0.0738 - val_dice_coef: 0.9856\n",
            "Epoch 30/200\n",
            "70/70 [==============================] - ETA: 0s - loss: 0.0295 - accuracy: 0.9439 - jaccard_distance: 0.0950 - dice_coef: 0.9787\n",
            "Epoch 00030: val_loss did not improve from 0.02086\n",
            "70/70 [==============================] - 29s 410ms/step - loss: 0.0295 - accuracy: 0.9439 - jaccard_distance: 0.0950 - dice_coef: 0.9787 - val_loss: 0.0231 - val_accuracy: 0.9642 - val_jaccard_distance: 0.1166 - val_dice_coef: 0.9852\n",
            "Epoch 31/200\n",
            "70/70 [==============================] - ETA: 0s - loss: 0.0257 - accuracy: 0.9511 - jaccard_distance: 0.1613 - dice_coef: 0.9821\n",
            "Epoch 00031: val_loss improved from 0.02086 to 0.01982, saving model to /content/drive/Shared drives/Ridhi and Vaishnavi/Final/segmentation-checkpoints/s-19.h5\n",
            "70/70 [==============================] - 30s 429ms/step - loss: 0.0257 - accuracy: 0.9511 - jaccard_distance: 0.1613 - dice_coef: 0.9821 - val_loss: 0.0198 - val_accuracy: 0.9657 - val_jaccard_distance: 0.1668 - val_dice_coef: 0.9877\n",
            "Epoch 32/200\n",
            "70/70 [==============================] - ETA: 0s - loss: 0.0239 - accuracy: 0.9531 - jaccard_distance: 0.1823 - dice_coef: 0.9831\n",
            "Epoch 00032: val_loss improved from 0.01982 to 0.01870, saving model to /content/drive/Shared drives/Ridhi and Vaishnavi/Final/segmentation-checkpoints/s-19.h5\n",
            "70/70 [==============================] - 30s 429ms/step - loss: 0.0239 - accuracy: 0.9531 - jaccard_distance: 0.1823 - dice_coef: 0.9831 - val_loss: 0.0187 - val_accuracy: 0.9659 - val_jaccard_distance: 0.1853 - val_dice_coef: 0.9881\n",
            "Epoch 33/200\n",
            "70/70 [==============================] - ETA: 0s - loss: 0.0229 - accuracy: 0.9533 - jaccard_distance: 0.1938 - dice_coef: 0.9833\n",
            "Epoch 00033: val_loss did not improve from 0.01870\n",
            "70/70 [==============================] - 29s 410ms/step - loss: 0.0229 - accuracy: 0.9533 - jaccard_distance: 0.1938 - dice_coef: 0.9833 - val_loss: 0.0222 - val_accuracy: 0.9616 - val_jaccard_distance: 0.1420 - val_dice_coef: 0.9857\n",
            "Epoch 34/200\n",
            "70/70 [==============================] - ETA: 0s - loss: 0.0289 - accuracy: 0.9416 - jaccard_distance: 0.0779 - dice_coef: 0.9778\n",
            "Epoch 00034: val_loss did not improve from 0.01870\n",
            "70/70 [==============================] - 29s 410ms/step - loss: 0.0289 - accuracy: 0.9416 - jaccard_distance: 0.0779 - dice_coef: 0.9778 - val_loss: 0.0199 - val_accuracy: 0.9632 - val_jaccard_distance: 0.0978 - val_dice_coef: 0.9866\n",
            "Epoch 35/200\n",
            "70/70 [==============================] - ETA: 0s - loss: 0.0285 - accuracy: 0.9444 - jaccard_distance: 0.0943 - dice_coef: 0.9789\n",
            "Epoch 00035: val_loss did not improve from 0.01870\n",
            "70/70 [==============================] - 29s 409ms/step - loss: 0.0285 - accuracy: 0.9444 - jaccard_distance: 0.0943 - dice_coef: 0.9789 - val_loss: 0.0196 - val_accuracy: 0.9614 - val_jaccard_distance: 0.1291 - val_dice_coef: 0.9855\n",
            "Epoch 36/200\n",
            "70/70 [==============================] - ETA: 0s - loss: 0.0231 - accuracy: 0.9507 - jaccard_distance: 0.1615 - dice_coef: 0.9822\n",
            "Epoch 00036: val_loss improved from 0.01870 to 0.01857, saving model to /content/drive/Shared drives/Ridhi and Vaishnavi/Final/segmentation-checkpoints/s-19.h5\n",
            "70/70 [==============================] - 30s 430ms/step - loss: 0.0231 - accuracy: 0.9507 - jaccard_distance: 0.1615 - dice_coef: 0.9822 - val_loss: 0.0186 - val_accuracy: 0.9617 - val_jaccard_distance: 0.1882 - val_dice_coef: 0.9863\n",
            "Epoch 37/200\n",
            "70/70 [==============================] - ETA: 0s - loss: 0.0214 - accuracy: 0.9536 - jaccard_distance: 0.1964 - dice_coef: 0.9836\n",
            "Epoch 00037: val_loss improved from 0.01857 to 0.01745, saving model to /content/drive/Shared drives/Ridhi and Vaishnavi/Final/segmentation-checkpoints/s-19.h5\n",
            "70/70 [==============================] - 30s 427ms/step - loss: 0.0214 - accuracy: 0.9536 - jaccard_distance: 0.1964 - dice_coef: 0.9836 - val_loss: 0.0175 - val_accuracy: 0.9636 - val_jaccard_distance: 0.1891 - val_dice_coef: 0.9872\n",
            "Epoch 38/200\n",
            "70/70 [==============================] - ETA: 0s - loss: 0.0216 - accuracy: 0.9524 - jaccard_distance: 0.1934 - dice_coef: 0.9832\n",
            "Epoch 00038: val_loss did not improve from 0.01745\n",
            "70/70 [==============================] - 29s 410ms/step - loss: 0.0216 - accuracy: 0.9524 - jaccard_distance: 0.1934 - dice_coef: 0.9832 - val_loss: 0.0211 - val_accuracy: 0.9639 - val_jaccard_distance: 0.1698 - val_dice_coef: 0.9861\n",
            "Epoch 39/200\n",
            "70/70 [==============================] - ETA: 0s - loss: 0.0215 - accuracy: 0.9539 - jaccard_distance: 0.2028 - dice_coef: 0.9839\n",
            "Epoch 00039: val_loss improved from 0.01745 to 0.01726, saving model to /content/drive/Shared drives/Ridhi and Vaishnavi/Final/segmentation-checkpoints/s-19.h5\n",
            "70/70 [==============================] - 30s 429ms/step - loss: 0.0215 - accuracy: 0.9539 - jaccard_distance: 0.2028 - dice_coef: 0.9839 - val_loss: 0.0173 - val_accuracy: 0.9635 - val_jaccard_distance: 0.1963 - val_dice_coef: 0.9872\n",
            "Epoch 40/200\n",
            "70/70 [==============================] - ETA: 0s - loss: 0.0213 - accuracy: 0.9540 - jaccard_distance: 0.2043 - dice_coef: 0.9839\n",
            "Epoch 00040: val_loss did not improve from 0.01726\n",
            "70/70 [==============================] - 29s 410ms/step - loss: 0.0213 - accuracy: 0.9540 - jaccard_distance: 0.2043 - dice_coef: 0.9839 - val_loss: 0.0175 - val_accuracy: 0.9649 - val_jaccard_distance: 0.1853 - val_dice_coef: 0.9876\n",
            "Epoch 41/200\n",
            "70/70 [==============================] - ETA: 0s - loss: 0.0208 - accuracy: 0.9540 - jaccard_distance: 0.1975 - dice_coef: 0.9837\n",
            "Epoch 00041: val_loss did not improve from 0.01726\n",
            "70/70 [==============================] - 29s 409ms/step - loss: 0.0208 - accuracy: 0.9540 - jaccard_distance: 0.1975 - dice_coef: 0.9837 - val_loss: 0.0222 - val_accuracy: 0.9653 - val_jaccard_distance: 0.1840 - val_dice_coef: 0.9874\n",
            "Epoch 42/200\n",
            "70/70 [==============================] - ETA: 0s - loss: 0.0240 - accuracy: 0.9517 - jaccard_distance: 0.1831 - dice_coef: 0.9828\n",
            "Epoch 00042: val_loss improved from 0.01726 to 0.01681, saving model to /content/drive/Shared drives/Ridhi and Vaishnavi/Final/segmentation-checkpoints/s-19.h5\n",
            "70/70 [==============================] - 30s 433ms/step - loss: 0.0240 - accuracy: 0.9517 - jaccard_distance: 0.1831 - dice_coef: 0.9828 - val_loss: 0.0168 - val_accuracy: 0.9657 - val_jaccard_distance: 0.1932 - val_dice_coef: 0.9883\n",
            "Epoch 43/200\n",
            "70/70 [==============================] - ETA: 0s - loss: 0.0204 - accuracy: 0.9549 - jaccard_distance: 0.2130 - dice_coef: 0.9843\n",
            "Epoch 00043: val_loss improved from 0.01681 to 0.01495, saving model to /content/drive/Shared drives/Ridhi and Vaishnavi/Final/segmentation-checkpoints/s-19.h5\n",
            "70/70 [==============================] - 30s 428ms/step - loss: 0.0204 - accuracy: 0.9549 - jaccard_distance: 0.2130 - dice_coef: 0.9843 - val_loss: 0.0149 - val_accuracy: 0.9672 - val_jaccard_distance: 0.2045 - val_dice_coef: 0.9890\n",
            "Epoch 44/200\n",
            "70/70 [==============================] - ETA: 0s - loss: 0.0189 - accuracy: 0.9562 - jaccard_distance: 0.2206 - dice_coef: 0.9849\n",
            "Epoch 00044: val_loss did not improve from 0.01495\n",
            "70/70 [==============================] - 29s 410ms/step - loss: 0.0189 - accuracy: 0.9562 - jaccard_distance: 0.2206 - dice_coef: 0.9849 - val_loss: 0.0159 - val_accuracy: 0.9654 - val_jaccard_distance: 0.2125 - val_dice_coef: 0.9877\n",
            "Epoch 45/200\n",
            "70/70 [==============================] - ETA: 0s - loss: 0.0184 - accuracy: 0.9565 - jaccard_distance: 0.2273 - dice_coef: 0.9851\n",
            "Epoch 00045: val_loss did not improve from 0.01495\n",
            "70/70 [==============================] - 29s 410ms/step - loss: 0.0184 - accuracy: 0.9565 - jaccard_distance: 0.2273 - dice_coef: 0.9851 - val_loss: 0.0158 - val_accuracy: 0.9655 - val_jaccard_distance: 0.2221 - val_dice_coef: 0.9877\n",
            "Epoch 46/200\n",
            "70/70 [==============================] - ETA: 0s - loss: 0.0185 - accuracy: 0.9563 - jaccard_distance: 0.2299 - dice_coef: 0.9850\n",
            "Epoch 00046: val_loss did not improve from 0.01495\n",
            "70/70 [==============================] - 29s 409ms/step - loss: 0.0185 - accuracy: 0.9563 - jaccard_distance: 0.2299 - dice_coef: 0.9850 - val_loss: 0.0156 - val_accuracy: 0.9652 - val_jaccard_distance: 0.2234 - val_dice_coef: 0.9878\n",
            "Epoch 47/200\n",
            "70/70 [==============================] - ETA: 0s - loss: 0.0191 - accuracy: 0.9563 - jaccard_distance: 0.2270 - dice_coef: 0.9850\n",
            "Epoch 00047: val_loss improved from 0.01495 to 0.01344, saving model to /content/drive/Shared drives/Ridhi and Vaishnavi/Final/segmentation-checkpoints/s-19.h5\n",
            "70/70 [==============================] - 30s 427ms/step - loss: 0.0191 - accuracy: 0.9563 - jaccard_distance: 0.2270 - dice_coef: 0.9850 - val_loss: 0.0134 - val_accuracy: 0.9686 - val_jaccard_distance: 0.2245 - val_dice_coef: 0.9898\n",
            "Epoch 48/200\n",
            "70/70 [==============================] - ETA: 0s - loss: 0.0236 - accuracy: 0.9512 - jaccard_distance: 0.1814 - dice_coef: 0.9824\n",
            "Epoch 00048: val_loss did not improve from 0.01344\n",
            "70/70 [==============================] - 29s 408ms/step - loss: 0.0236 - accuracy: 0.9512 - jaccard_distance: 0.1814 - dice_coef: 0.9824 - val_loss: 0.0180 - val_accuracy: 0.9612 - val_jaccard_distance: 0.0893 - val_dice_coef: 0.9860\n",
            "Epoch 49/200\n",
            "70/70 [==============================] - ETA: 0s - loss: 0.0250 - accuracy: 0.9437 - jaccard_distance: 0.0964 - dice_coef: 0.9788\n",
            "Epoch 00049: val_loss did not improve from 0.01344\n",
            "70/70 [==============================] - 29s 409ms/step - loss: 0.0250 - accuracy: 0.9437 - jaccard_distance: 0.0964 - dice_coef: 0.9788 - val_loss: 0.0184 - val_accuracy: 0.9631 - val_jaccard_distance: 0.1600 - val_dice_coef: 0.9862\n",
            "Epoch 50/200\n",
            "70/70 [==============================] - ETA: 0s - loss: 0.0234 - accuracy: 0.9500 - jaccard_distance: 0.1561 - dice_coef: 0.9817\n",
            "Epoch 00050: val_loss did not improve from 0.01344\n",
            "70/70 [==============================] - 29s 409ms/step - loss: 0.0234 - accuracy: 0.9500 - jaccard_distance: 0.1561 - dice_coef: 0.9817 - val_loss: 0.0160 - val_accuracy: 0.9661 - val_jaccard_distance: 0.2132 - val_dice_coef: 0.9884\n",
            "Epoch 51/200\n",
            "70/70 [==============================] - ETA: 0s - loss: 0.0223 - accuracy: 0.9523 - jaccard_distance: 0.1973 - dice_coef: 0.9833\n",
            "Epoch 00051: val_loss did not improve from 0.01344\n",
            "70/70 [==============================] - 29s 410ms/step - loss: 0.0223 - accuracy: 0.9523 - jaccard_distance: 0.1973 - dice_coef: 0.9833 - val_loss: 0.0151 - val_accuracy: 0.9671 - val_jaccard_distance: 0.2269 - val_dice_coef: 0.9890\n",
            "Epoch 52/200\n",
            "70/70 [==============================] - ETA: 0s - loss: 0.0187 - accuracy: 0.9565 - jaccard_distance: 0.2284 - dice_coef: 0.9852\n",
            "Epoch 00052: ReduceLROnPlateau reducing learning rate to 1e-05.\n",
            "\n",
            "Epoch 00052: val_loss did not improve from 0.01344\n",
            "70/70 [==============================] - 29s 409ms/step - loss: 0.0187 - accuracy: 0.9565 - jaccard_distance: 0.2284 - dice_coef: 0.9852 - val_loss: 0.0147 - val_accuracy: 0.9676 - val_jaccard_distance: 0.2353 - val_dice_coef: 0.9888\n",
            "Epoch 53/200\n",
            "70/70 [==============================] - ETA: 0s - loss: 0.0167 - accuracy: 0.9597 - jaccard_distance: 0.2485 - dice_coef: 0.9865\n",
            "Epoch 00053: val_loss improved from 0.01344 to 0.01332, saving model to /content/drive/Shared drives/Ridhi and Vaishnavi/Final/segmentation-checkpoints/s-19.h5\n",
            "70/70 [==============================] - 30s 429ms/step - loss: 0.0167 - accuracy: 0.9597 - jaccard_distance: 0.2485 - dice_coef: 0.9865 - val_loss: 0.0133 - val_accuracy: 0.9695 - val_jaccard_distance: 0.2395 - val_dice_coef: 0.9898\n",
            "Epoch 54/200\n",
            "70/70 [==============================] - ETA: 0s - loss: 0.0164 - accuracy: 0.9600 - jaccard_distance: 0.2548 - dice_coef: 0.9867\n",
            "Epoch 00054: val_loss improved from 0.01332 to 0.01278, saving model to /content/drive/Shared drives/Ridhi and Vaishnavi/Final/segmentation-checkpoints/s-19.h5\n",
            "70/70 [==============================] - 30s 432ms/step - loss: 0.0164 - accuracy: 0.9600 - jaccard_distance: 0.2548 - dice_coef: 0.9867 - val_loss: 0.0128 - val_accuracy: 0.9699 - val_jaccard_distance: 0.2347 - val_dice_coef: 0.9902\n",
            "Epoch 55/200\n",
            "70/70 [==============================] - ETA: 0s - loss: 0.0160 - accuracy: 0.9607 - jaccard_distance: 0.2598 - dice_coef: 0.9870\n",
            "Epoch 00055: val_loss improved from 0.01278 to 0.01237, saving model to /content/drive/Shared drives/Ridhi and Vaishnavi/Final/segmentation-checkpoints/s-19.h5\n",
            "70/70 [==============================] - 30s 429ms/step - loss: 0.0160 - accuracy: 0.9607 - jaccard_distance: 0.2598 - dice_coef: 0.9870 - val_loss: 0.0124 - val_accuracy: 0.9706 - val_jaccard_distance: 0.2436 - val_dice_coef: 0.9906\n",
            "Epoch 56/200\n",
            "70/70 [==============================] - ETA: 0s - loss: 0.0158 - accuracy: 0.9609 - jaccard_distance: 0.2612 - dice_coef: 0.9871\n",
            "Epoch 00056: val_loss improved from 0.01237 to 0.01232, saving model to /content/drive/Shared drives/Ridhi and Vaishnavi/Final/segmentation-checkpoints/s-19.h5\n",
            "70/70 [==============================] - 30s 427ms/step - loss: 0.0158 - accuracy: 0.9609 - jaccard_distance: 0.2612 - dice_coef: 0.9871 - val_loss: 0.0123 - val_accuracy: 0.9709 - val_jaccard_distance: 0.2504 - val_dice_coef: 0.9905\n",
            "Epoch 57/200\n",
            "70/70 [==============================] - ETA: 0s - loss: 0.0156 - accuracy: 0.9613 - jaccard_distance: 0.2636 - dice_coef: 0.9872\n",
            "Epoch 00057: val_loss improved from 0.01232 to 0.01218, saving model to /content/drive/Shared drives/Ridhi and Vaishnavi/Final/segmentation-checkpoints/s-19.h5\n",
            "70/70 [==============================] - 30s 429ms/step - loss: 0.0156 - accuracy: 0.9613 - jaccard_distance: 0.2636 - dice_coef: 0.9872 - val_loss: 0.0122 - val_accuracy: 0.9710 - val_jaccard_distance: 0.2528 - val_dice_coef: 0.9906\n",
            "Epoch 58/200\n",
            "70/70 [==============================] - ETA: 0s - loss: 0.0154 - accuracy: 0.9616 - jaccard_distance: 0.2660 - dice_coef: 0.9874\n",
            "Epoch 00058: val_loss improved from 0.01218 to 0.01171, saving model to /content/drive/Shared drives/Ridhi and Vaishnavi/Final/segmentation-checkpoints/s-19.h5\n",
            "70/70 [==============================] - 30s 432ms/step - loss: 0.0154 - accuracy: 0.9616 - jaccard_distance: 0.2660 - dice_coef: 0.9874 - val_loss: 0.0117 - val_accuracy: 0.9716 - val_jaccard_distance: 0.2474 - val_dice_coef: 0.9910\n",
            "Epoch 59/200\n",
            "70/70 [==============================] - ETA: 0s - loss: 0.0152 - accuracy: 0.9618 - jaccard_distance: 0.2684 - dice_coef: 0.9875\n",
            "Epoch 00059: val_loss did not improve from 0.01171\n",
            "70/70 [==============================] - 29s 410ms/step - loss: 0.0152 - accuracy: 0.9618 - jaccard_distance: 0.2684 - dice_coef: 0.9875 - val_loss: 0.0117 - val_accuracy: 0.9718 - val_jaccard_distance: 0.2563 - val_dice_coef: 0.9910\n",
            "Epoch 60/200\n",
            "70/70 [==============================] - ETA: 0s - loss: 0.0151 - accuracy: 0.9623 - jaccard_distance: 0.2717 - dice_coef: 0.9877\n",
            "Epoch 00060: val_loss did not improve from 0.01171\n",
            "70/70 [==============================] - 29s 410ms/step - loss: 0.0151 - accuracy: 0.9623 - jaccard_distance: 0.2717 - dice_coef: 0.9877 - val_loss: 0.0123 - val_accuracy: 0.9710 - val_jaccard_distance: 0.2624 - val_dice_coef: 0.9904\n",
            "Epoch 61/200\n",
            "70/70 [==============================] - ETA: 0s - loss: 0.0149 - accuracy: 0.9626 - jaccard_distance: 0.2748 - dice_coef: 0.9878\n",
            "Epoch 00061: val_loss improved from 0.01171 to 0.01117, saving model to /content/drive/Shared drives/Ridhi and Vaishnavi/Final/segmentation-checkpoints/s-19.h5\n",
            "70/70 [==============================] - 30s 428ms/step - loss: 0.0149 - accuracy: 0.9626 - jaccard_distance: 0.2748 - dice_coef: 0.9878 - val_loss: 0.0112 - val_accuracy: 0.9723 - val_jaccard_distance: 0.2513 - val_dice_coef: 0.9915\n",
            "Epoch 62/200\n",
            "70/70 [==============================] - ETA: 0s - loss: 0.0149 - accuracy: 0.9626 - jaccard_distance: 0.2747 - dice_coef: 0.9878\n",
            "Epoch 00062: val_loss improved from 0.01117 to 0.01107, saving model to /content/drive/Shared drives/Ridhi and Vaishnavi/Final/segmentation-checkpoints/s-19.h5\n",
            "70/70 [==============================] - 30s 428ms/step - loss: 0.0149 - accuracy: 0.9626 - jaccard_distance: 0.2747 - dice_coef: 0.9878 - val_loss: 0.0111 - val_accuracy: 0.9733 - val_jaccard_distance: 0.2619 - val_dice_coef: 0.9916\n",
            "Epoch 63/200\n",
            "70/70 [==============================] - ETA: 0s - loss: 0.0147 - accuracy: 0.9631 - jaccard_distance: 0.2788 - dice_coef: 0.9880\n",
            "Epoch 00063: val_loss did not improve from 0.01107\n",
            "70/70 [==============================] - 29s 408ms/step - loss: 0.0147 - accuracy: 0.9631 - jaccard_distance: 0.2788 - dice_coef: 0.9880 - val_loss: 0.0114 - val_accuracy: 0.9725 - val_jaccard_distance: 0.2659 - val_dice_coef: 0.9913\n",
            "Epoch 64/200\n",
            "70/70 [==============================] - ETA: 0s - loss: 0.0147 - accuracy: 0.9632 - jaccard_distance: 0.2814 - dice_coef: 0.9880\n",
            "Epoch 00064: val_loss did not improve from 0.01107\n",
            "70/70 [==============================] - 29s 410ms/step - loss: 0.0147 - accuracy: 0.9632 - jaccard_distance: 0.2814 - dice_coef: 0.9880 - val_loss: 0.0111 - val_accuracy: 0.9725 - val_jaccard_distance: 0.2536 - val_dice_coef: 0.9915\n",
            "Epoch 65/200\n",
            "70/70 [==============================] - ETA: 0s - loss: 0.0146 - accuracy: 0.9630 - jaccard_distance: 0.2827 - dice_coef: 0.9880\n",
            "Epoch 00065: val_loss improved from 0.01107 to 0.01081, saving model to /content/drive/Shared drives/Ridhi and Vaishnavi/Final/segmentation-checkpoints/s-19.h5\n",
            "70/70 [==============================] - 30s 429ms/step - loss: 0.0146 - accuracy: 0.9630 - jaccard_distance: 0.2827 - dice_coef: 0.9880 - val_loss: 0.0108 - val_accuracy: 0.9735 - val_jaccard_distance: 0.2634 - val_dice_coef: 0.9918\n",
            "Epoch 66/200\n",
            "70/70 [==============================] - ETA: 0s - loss: 0.0143 - accuracy: 0.9639 - jaccard_distance: 0.2840 - dice_coef: 0.9883\n",
            "Epoch 00066: val_loss improved from 0.01081 to 0.01064, saving model to /content/drive/Shared drives/Ridhi and Vaishnavi/Final/segmentation-checkpoints/s-19.h5\n",
            "70/70 [==============================] - 30s 429ms/step - loss: 0.0143 - accuracy: 0.9639 - jaccard_distance: 0.2840 - dice_coef: 0.9883 - val_loss: 0.0106 - val_accuracy: 0.9744 - val_jaccard_distance: 0.2756 - val_dice_coef: 0.9920\n",
            "Epoch 67/200\n",
            "70/70 [==============================] - ETA: 0s - loss: 0.0143 - accuracy: 0.9639 - jaccard_distance: 0.2856 - dice_coef: 0.9883\n",
            "Epoch 00067: val_loss did not improve from 0.01064\n",
            "70/70 [==============================] - 29s 410ms/step - loss: 0.0143 - accuracy: 0.9639 - jaccard_distance: 0.2856 - dice_coef: 0.9883 - val_loss: 0.0111 - val_accuracy: 0.9736 - val_jaccard_distance: 0.2698 - val_dice_coef: 0.9915\n",
            "Epoch 68/200\n",
            "70/70 [==============================] - ETA: 0s - loss: 0.0141 - accuracy: 0.9643 - jaccard_distance: 0.2894 - dice_coef: 0.9885\n",
            "Epoch 00068: val_loss improved from 0.01064 to 0.01060, saving model to /content/drive/Shared drives/Ridhi and Vaishnavi/Final/segmentation-checkpoints/s-19.h5\n",
            "70/70 [==============================] - 30s 429ms/step - loss: 0.0141 - accuracy: 0.9643 - jaccard_distance: 0.2894 - dice_coef: 0.9885 - val_loss: 0.0106 - val_accuracy: 0.9744 - val_jaccard_distance: 0.2809 - val_dice_coef: 0.9920\n",
            "Epoch 69/200\n",
            "70/70 [==============================] - ETA: 0s - loss: 0.0140 - accuracy: 0.9647 - jaccard_distance: 0.2942 - dice_coef: 0.9886\n",
            "Epoch 00069: val_loss did not improve from 0.01060\n",
            "70/70 [==============================] - 29s 410ms/step - loss: 0.0140 - accuracy: 0.9647 - jaccard_distance: 0.2942 - dice_coef: 0.9886 - val_loss: 0.0115 - val_accuracy: 0.9728 - val_jaccard_distance: 0.2803 - val_dice_coef: 0.9911\n",
            "Epoch 70/200\n",
            "70/70 [==============================] - ETA: 0s - loss: 0.0140 - accuracy: 0.9647 - jaccard_distance: 0.2952 - dice_coef: 0.9886\n",
            "Epoch 00070: val_loss did not improve from 0.01060\n",
            "70/70 [==============================] - 29s 410ms/step - loss: 0.0140 - accuracy: 0.9647 - jaccard_distance: 0.2952 - dice_coef: 0.9886 - val_loss: 0.0107 - val_accuracy: 0.9744 - val_jaccard_distance: 0.2772 - val_dice_coef: 0.9919\n",
            "Epoch 71/200\n",
            "70/70 [==============================] - ETA: 0s - loss: 0.0138 - accuracy: 0.9653 - jaccard_distance: 0.2982 - dice_coef: 0.9889\n",
            "Epoch 00071: val_loss improved from 0.01060 to 0.01025, saving model to /content/drive/Shared drives/Ridhi and Vaishnavi/Final/segmentation-checkpoints/s-19.h5\n",
            "70/70 [==============================] - 30s 428ms/step - loss: 0.0138 - accuracy: 0.9653 - jaccard_distance: 0.2982 - dice_coef: 0.9889 - val_loss: 0.0103 - val_accuracy: 0.9752 - val_jaccard_distance: 0.2866 - val_dice_coef: 0.9923\n",
            "Epoch 72/200\n",
            "70/70 [==============================] - ETA: 0s - loss: 0.0137 - accuracy: 0.9655 - jaccard_distance: 0.3011 - dice_coef: 0.9889\n",
            "Epoch 00072: val_loss did not improve from 0.01025\n",
            "70/70 [==============================] - 29s 409ms/step - loss: 0.0137 - accuracy: 0.9655 - jaccard_distance: 0.3011 - dice_coef: 0.9889 - val_loss: 0.0109 - val_accuracy: 0.9742 - val_jaccard_distance: 0.2830 - val_dice_coef: 0.9916\n",
            "Epoch 73/200\n",
            "70/70 [==============================] - ETA: 0s - loss: 0.0138 - accuracy: 0.9654 - jaccard_distance: 0.3012 - dice_coef: 0.9889\n",
            "Epoch 00073: val_loss did not improve from 0.01025\n",
            "70/70 [==============================] - 29s 408ms/step - loss: 0.0138 - accuracy: 0.9654 - jaccard_distance: 0.3012 - dice_coef: 0.9889 - val_loss: 0.0107 - val_accuracy: 0.9746 - val_jaccard_distance: 0.2738 - val_dice_coef: 0.9919\n",
            "Epoch 74/200\n",
            "70/70 [==============================] - ETA: 0s - loss: 0.0135 - accuracy: 0.9659 - jaccard_distance: 0.3073 - dice_coef: 0.9891\n",
            "Epoch 00074: val_loss improved from 0.01025 to 0.00984, saving model to /content/drive/Shared drives/Ridhi and Vaishnavi/Final/segmentation-checkpoints/s-19.h5\n",
            "70/70 [==============================] - 30s 428ms/step - loss: 0.0135 - accuracy: 0.9659 - jaccard_distance: 0.3073 - dice_coef: 0.9891 - val_loss: 0.0098 - val_accuracy: 0.9758 - val_jaccard_distance: 0.2831 - val_dice_coef: 0.9928\n",
            "Epoch 75/200\n",
            "70/70 [==============================] - ETA: 0s - loss: 0.0134 - accuracy: 0.9663 - jaccard_distance: 0.3101 - dice_coef: 0.9892\n",
            "Epoch 00075: val_loss did not improve from 0.00984\n",
            "70/70 [==============================] - 28s 406ms/step - loss: 0.0134 - accuracy: 0.9663 - jaccard_distance: 0.3101 - dice_coef: 0.9892 - val_loss: 0.0103 - val_accuracy: 0.9745 - val_jaccard_distance: 0.2701 - val_dice_coef: 0.9923\n",
            "Epoch 76/200\n",
            "70/70 [==============================] - ETA: 0s - loss: 0.0133 - accuracy: 0.9663 - jaccard_distance: 0.3113 - dice_coef: 0.9893\n",
            "Epoch 00076: val_loss did not improve from 0.00984\n",
            "70/70 [==============================] - 28s 406ms/step - loss: 0.0133 - accuracy: 0.9663 - jaccard_distance: 0.3113 - dice_coef: 0.9893 - val_loss: 0.0100 - val_accuracy: 0.9759 - val_jaccard_distance: 0.2934 - val_dice_coef: 0.9925\n",
            "Epoch 77/200\n",
            "70/70 [==============================] - ETA: 0s - loss: 0.0133 - accuracy: 0.9663 - jaccard_distance: 0.3124 - dice_coef: 0.9893\n",
            "Epoch 00077: val_loss did not improve from 0.00984\n",
            "70/70 [==============================] - 28s 405ms/step - loss: 0.0133 - accuracy: 0.9663 - jaccard_distance: 0.3124 - dice_coef: 0.9893 - val_loss: 0.0103 - val_accuracy: 0.9751 - val_jaccard_distance: 0.3000 - val_dice_coef: 0.9923\n",
            "Epoch 78/200\n",
            "70/70 [==============================] - ETA: 0s - loss: 0.0133 - accuracy: 0.9664 - jaccard_distance: 0.3156 - dice_coef: 0.9893\n",
            "Epoch 00078: val_loss did not improve from 0.00984\n",
            "70/70 [==============================] - 28s 405ms/step - loss: 0.0133 - accuracy: 0.9664 - jaccard_distance: 0.3156 - dice_coef: 0.9893 - val_loss: 0.0109 - val_accuracy: 0.9736 - val_jaccard_distance: 0.2978 - val_dice_coef: 0.9918\n",
            "Epoch 79/200\n",
            "70/70 [==============================] - ETA: 0s - loss: 0.0130 - accuracy: 0.9671 - jaccard_distance: 0.3208 - dice_coef: 0.9896\n",
            "Epoch 00079: val_loss did not improve from 0.00984\n",
            "70/70 [==============================] - 28s 405ms/step - loss: 0.0130 - accuracy: 0.9671 - jaccard_distance: 0.3208 - dice_coef: 0.9896 - val_loss: 0.0101 - val_accuracy: 0.9749 - val_jaccard_distance: 0.2758 - val_dice_coef: 0.9925\n",
            "Epoch 80/200\n",
            "70/70 [==============================] - ETA: 0s - loss: 0.0130 - accuracy: 0.9671 - jaccard_distance: 0.3190 - dice_coef: 0.9896\n",
            "Epoch 00080: val_loss did not improve from 0.00984\n",
            "70/70 [==============================] - 28s 405ms/step - loss: 0.0130 - accuracy: 0.9671 - jaccard_distance: 0.3190 - dice_coef: 0.9896 - val_loss: 0.0103 - val_accuracy: 0.9755 - val_jaccard_distance: 0.2971 - val_dice_coef: 0.9923\n",
            "Epoch 81/200\n",
            "70/70 [==============================] - ETA: 0s - loss: 0.0128 - accuracy: 0.9677 - jaccard_distance: 0.3260 - dice_coef: 0.9898\n",
            "Epoch 00081: val_loss did not improve from 0.00984\n",
            "70/70 [==============================] - 28s 405ms/step - loss: 0.0128 - accuracy: 0.9677 - jaccard_distance: 0.3260 - dice_coef: 0.9898 - val_loss: 0.0105 - val_accuracy: 0.9748 - val_jaccard_distance: 0.3048 - val_dice_coef: 0.9921\n",
            "Epoch 82/200\n",
            "70/70 [==============================] - ETA: 0s - loss: 0.0129 - accuracy: 0.9674 - jaccard_distance: 0.3235 - dice_coef: 0.9897\n",
            "Epoch 00082: val_loss improved from 0.00984 to 0.00983, saving model to /content/drive/Shared drives/Ridhi and Vaishnavi/Final/segmentation-checkpoints/s-19.h5\n",
            "70/70 [==============================] - 30s 425ms/step - loss: 0.0129 - accuracy: 0.9674 - jaccard_distance: 0.3235 - dice_coef: 0.9897 - val_loss: 0.0098 - val_accuracy: 0.9762 - val_jaccard_distance: 0.3062 - val_dice_coef: 0.9928\n",
            "Epoch 83/200\n",
            "70/70 [==============================] - ETA: 0s - loss: 0.0127 - accuracy: 0.9678 - jaccard_distance: 0.3291 - dice_coef: 0.9899\n",
            "Epoch 00083: val_loss did not improve from 0.00983\n",
            "70/70 [==============================] - 28s 405ms/step - loss: 0.0127 - accuracy: 0.9678 - jaccard_distance: 0.3291 - dice_coef: 0.9899 - val_loss: 0.0108 - val_accuracy: 0.9735 - val_jaccard_distance: 0.3080 - val_dice_coef: 0.9918\n",
            "Epoch 84/200\n",
            "70/70 [==============================] - ETA: 0s - loss: 0.0131 - accuracy: 0.9670 - jaccard_distance: 0.3274 - dice_coef: 0.9896\n",
            "Epoch 00084: val_loss did not improve from 0.00983\n",
            "70/70 [==============================] - 28s 405ms/step - loss: 0.0131 - accuracy: 0.9670 - jaccard_distance: 0.3274 - dice_coef: 0.9896 - val_loss: 0.0125 - val_accuracy: 0.9697 - val_jaccard_distance: 0.2943 - val_dice_coef: 0.9902\n",
            "Epoch 85/200\n",
            "70/70 [==============================] - ETA: 0s - loss: 0.0126 - accuracy: 0.9682 - jaccard_distance: 0.3331 - dice_coef: 0.9900\n",
            "Epoch 00085: val_loss did not improve from 0.00983\n",
            "70/70 [==============================] - 28s 405ms/step - loss: 0.0126 - accuracy: 0.9682 - jaccard_distance: 0.3331 - dice_coef: 0.9900 - val_loss: 0.0100 - val_accuracy: 0.9759 - val_jaccard_distance: 0.3122 - val_dice_coef: 0.9926\n",
            "Epoch 86/200\n",
            "70/70 [==============================] - ETA: 0s - loss: 0.0123 - accuracy: 0.9688 - jaccard_distance: 0.3383 - dice_coef: 0.9903\n",
            "Epoch 00086: val_loss did not improve from 0.00983\n",
            "70/70 [==============================] - 28s 405ms/step - loss: 0.0123 - accuracy: 0.9688 - jaccard_distance: 0.3383 - dice_coef: 0.9903 - val_loss: 0.0102 - val_accuracy: 0.9752 - val_jaccard_distance: 0.3162 - val_dice_coef: 0.9924\n",
            "Epoch 87/200\n",
            "70/70 [==============================] - ETA: 0s - loss: 0.0125 - accuracy: 0.9683 - jaccard_distance: 0.3384 - dice_coef: 0.9901\n",
            "Epoch 00087: val_loss did not improve from 0.00983\n",
            "70/70 [==============================] - 28s 405ms/step - loss: 0.0125 - accuracy: 0.9683 - jaccard_distance: 0.3384 - dice_coef: 0.9901 - val_loss: 0.0098 - val_accuracy: 0.9760 - val_jaccard_distance: 0.3191 - val_dice_coef: 0.9928\n",
            "Epoch 88/200\n",
            "70/70 [==============================] - ETA: 0s - loss: 0.0123 - accuracy: 0.9691 - jaccard_distance: 0.3416 - dice_coef: 0.9904\n",
            "Epoch 00088: val_loss improved from 0.00983 to 0.00962, saving model to /content/drive/Shared drives/Ridhi and Vaishnavi/Final/segmentation-checkpoints/s-19.h5\n",
            "70/70 [==============================] - 30s 424ms/step - loss: 0.0123 - accuracy: 0.9691 - jaccard_distance: 0.3416 - dice_coef: 0.9904 - val_loss: 0.0096 - val_accuracy: 0.9767 - val_jaccard_distance: 0.3155 - val_dice_coef: 0.9930\n",
            "Epoch 89/200\n",
            "70/70 [==============================] - ETA: 0s - loss: 0.0120 - accuracy: 0.9696 - jaccard_distance: 0.3479 - dice_coef: 0.9906\n",
            "Epoch 00089: val_loss did not improve from 0.00962\n",
            "70/70 [==============================] - 28s 405ms/step - loss: 0.0120 - accuracy: 0.9696 - jaccard_distance: 0.3479 - dice_coef: 0.9906 - val_loss: 0.0102 - val_accuracy: 0.9754 - val_jaccard_distance: 0.3243 - val_dice_coef: 0.9925\n",
            "Epoch 90/200\n",
            "70/70 [==============================] - ETA: 0s - loss: 0.0121 - accuracy: 0.9695 - jaccard_distance: 0.3496 - dice_coef: 0.9906\n",
            "Epoch 00090: val_loss improved from 0.00962 to 0.00939, saving model to /content/drive/Shared drives/Ridhi and Vaishnavi/Final/segmentation-checkpoints/s-19.h5\n",
            "70/70 [==============================] - 30s 427ms/step - loss: 0.0121 - accuracy: 0.9695 - jaccard_distance: 0.3496 - dice_coef: 0.9906 - val_loss: 0.0094 - val_accuracy: 0.9772 - val_jaccard_distance: 0.3067 - val_dice_coef: 0.9933\n",
            "Epoch 91/200\n",
            "70/70 [==============================] - ETA: 0s - loss: 0.0121 - accuracy: 0.9693 - jaccard_distance: 0.3498 - dice_coef: 0.9905\n",
            "Epoch 00091: val_loss did not improve from 0.00939\n",
            "70/70 [==============================] - 28s 405ms/step - loss: 0.0121 - accuracy: 0.9693 - jaccard_distance: 0.3498 - dice_coef: 0.9905 - val_loss: 0.0131 - val_accuracy: 0.9679 - val_jaccard_distance: 0.3021 - val_dice_coef: 0.9896\n",
            "Epoch 92/200\n",
            "70/70 [==============================] - ETA: 0s - loss: 0.0122 - accuracy: 0.9694 - jaccard_distance: 0.3520 - dice_coef: 0.9905\n",
            "Epoch 00092: val_loss did not improve from 0.00939\n",
            "70/70 [==============================] - 28s 405ms/step - loss: 0.0122 - accuracy: 0.9694 - jaccard_distance: 0.3520 - dice_coef: 0.9905 - val_loss: 0.0097 - val_accuracy: 0.9763 - val_jaccard_distance: 0.3172 - val_dice_coef: 0.9929\n",
            "Epoch 93/200\n",
            "70/70 [==============================] - ETA: 0s - loss: 0.0119 - accuracy: 0.9701 - jaccard_distance: 0.3571 - dice_coef: 0.9908\n",
            "Epoch 00093: val_loss improved from 0.00939 to 0.00927, saving model to /content/drive/Shared drives/Ridhi and Vaishnavi/Final/segmentation-checkpoints/s-19.h5\n",
            "70/70 [==============================] - 30s 423ms/step - loss: 0.0119 - accuracy: 0.9701 - jaccard_distance: 0.3571 - dice_coef: 0.9908 - val_loss: 0.0093 - val_accuracy: 0.9772 - val_jaccard_distance: 0.3253 - val_dice_coef: 0.9934\n",
            "Epoch 94/200\n",
            "70/70 [==============================] - ETA: 0s - loss: 0.0119 - accuracy: 0.9701 - jaccard_distance: 0.3582 - dice_coef: 0.9908\n",
            "Epoch 00094: val_loss improved from 0.00927 to 0.00913, saving model to /content/drive/Shared drives/Ridhi and Vaishnavi/Final/segmentation-checkpoints/s-19.h5\n",
            "70/70 [==============================] - 30s 425ms/step - loss: 0.0119 - accuracy: 0.9701 - jaccard_distance: 0.3582 - dice_coef: 0.9908 - val_loss: 0.0091 - val_accuracy: 0.9780 - val_jaccard_distance: 0.3320 - val_dice_coef: 0.9935\n",
            "Epoch 95/200\n",
            "70/70 [==============================] - ETA: 0s - loss: 0.0117 - accuracy: 0.9705 - jaccard_distance: 0.3638 - dice_coef: 0.9910\n",
            "Epoch 00095: val_loss did not improve from 0.00913\n",
            "70/70 [==============================] - 28s 404ms/step - loss: 0.0117 - accuracy: 0.9705 - jaccard_distance: 0.3638 - dice_coef: 0.9910 - val_loss: 0.0095 - val_accuracy: 0.9768 - val_jaccard_distance: 0.3317 - val_dice_coef: 0.9931\n",
            "Epoch 96/200\n",
            "70/70 [==============================] - ETA: 0s - loss: 0.0116 - accuracy: 0.9707 - jaccard_distance: 0.3648 - dice_coef: 0.9911\n",
            "Epoch 00096: val_loss did not improve from 0.00913\n",
            "70/70 [==============================] - 28s 403ms/step - loss: 0.0116 - accuracy: 0.9707 - jaccard_distance: 0.3648 - dice_coef: 0.9911 - val_loss: 0.0106 - val_accuracy: 0.9740 - val_jaccard_distance: 0.3261 - val_dice_coef: 0.9920\n",
            "Epoch 97/200\n",
            "70/70 [==============================] - ETA: 0s - loss: 0.0114 - accuracy: 0.9712 - jaccard_distance: 0.3693 - dice_coef: 0.9913\n",
            "Epoch 00097: val_loss did not improve from 0.00913\n",
            "70/70 [==============================] - 28s 404ms/step - loss: 0.0114 - accuracy: 0.9712 - jaccard_distance: 0.3693 - dice_coef: 0.9913 - val_loss: 0.0094 - val_accuracy: 0.9772 - val_jaccard_distance: 0.3316 - val_dice_coef: 0.9933\n",
            "Epoch 98/200\n",
            "70/70 [==============================] - ETA: 0s - loss: 0.0114 - accuracy: 0.9709 - jaccard_distance: 0.3700 - dice_coef: 0.9912\n",
            "Epoch 00098: val_loss improved from 0.00913 to 0.00880, saving model to /content/drive/Shared drives/Ridhi and Vaishnavi/Final/segmentation-checkpoints/s-19.h5\n",
            "70/70 [==============================] - 30s 424ms/step - loss: 0.0114 - accuracy: 0.9709 - jaccard_distance: 0.3700 - dice_coef: 0.9912 - val_loss: 0.0088 - val_accuracy: 0.9784 - val_jaccard_distance: 0.3476 - val_dice_coef: 0.9938\n",
            "Epoch 99/200\n",
            "70/70 [==============================] - ETA: 0s - loss: 0.0112 - accuracy: 0.9715 - jaccard_distance: 0.3743 - dice_coef: 0.9914\n",
            "Epoch 00099: val_loss did not improve from 0.00880\n",
            "70/70 [==============================] - 28s 404ms/step - loss: 0.0112 - accuracy: 0.9715 - jaccard_distance: 0.3743 - dice_coef: 0.9914 - val_loss: 0.0091 - val_accuracy: 0.9775 - val_jaccard_distance: 0.3441 - val_dice_coef: 0.9935\n",
            "Epoch 100/200\n",
            "70/70 [==============================] - ETA: 0s - loss: 0.0112 - accuracy: 0.9717 - jaccard_distance: 0.3759 - dice_coef: 0.9915\n",
            "Epoch 00100: val_loss improved from 0.00880 to 0.00857, saving model to /content/drive/Shared drives/Ridhi and Vaishnavi/Final/segmentation-checkpoints/s-19.h5\n",
            "70/70 [==============================] - 30s 423ms/step - loss: 0.0112 - accuracy: 0.9717 - jaccard_distance: 0.3759 - dice_coef: 0.9915 - val_loss: 0.0086 - val_accuracy: 0.9790 - val_jaccard_distance: 0.3458 - val_dice_coef: 0.9941\n",
            "Epoch 101/200\n",
            "70/70 [==============================] - ETA: 0s - loss: 0.0121 - accuracy: 0.9697 - jaccard_distance: 0.3598 - dice_coef: 0.9907\n",
            "Epoch 00101: val_loss did not improve from 0.00857\n",
            "70/70 [==============================] - 28s 404ms/step - loss: 0.0121 - accuracy: 0.9697 - jaccard_distance: 0.3598 - dice_coef: 0.9907 - val_loss: 0.0089 - val_accuracy: 0.9785 - val_jaccard_distance: 0.3499 - val_dice_coef: 0.9938\n",
            "Epoch 102/200\n",
            "70/70 [==============================] - ETA: 0s - loss: 0.0111 - accuracy: 0.9718 - jaccard_distance: 0.3787 - dice_coef: 0.9915\n",
            "Epoch 00102: val_loss did not improve from 0.00857\n",
            "70/70 [==============================] - 28s 404ms/step - loss: 0.0111 - accuracy: 0.9718 - jaccard_distance: 0.3787 - dice_coef: 0.9915 - val_loss: 0.0089 - val_accuracy: 0.9783 - val_jaccard_distance: 0.3548 - val_dice_coef: 0.9938\n",
            "Epoch 103/200\n",
            "70/70 [==============================] - ETA: 0s - loss: 0.0111 - accuracy: 0.9718 - jaccard_distance: 0.3806 - dice_coef: 0.9915\n",
            "Epoch 00103: val_loss did not improve from 0.00857\n",
            "70/70 [==============================] - 28s 404ms/step - loss: 0.0111 - accuracy: 0.9718 - jaccard_distance: 0.3806 - dice_coef: 0.9915 - val_loss: 0.0092 - val_accuracy: 0.9778 - val_jaccard_distance: 0.3518 - val_dice_coef: 0.9935\n",
            "Epoch 104/200\n",
            "70/70 [==============================] - ETA: 0s - loss: 0.0111 - accuracy: 0.9719 - jaccard_distance: 0.3798 - dice_coef: 0.9915\n",
            "Epoch 00104: val_loss did not improve from 0.00857\n",
            "70/70 [==============================] - 28s 404ms/step - loss: 0.0111 - accuracy: 0.9719 - jaccard_distance: 0.3798 - dice_coef: 0.9915 - val_loss: 0.0090 - val_accuracy: 0.9779 - val_jaccard_distance: 0.3525 - val_dice_coef: 0.9936\n",
            "Epoch 105/200\n",
            "70/70 [==============================] - ETA: 0s - loss: 0.0110 - accuracy: 0.9721 - jaccard_distance: 0.3846 - dice_coef: 0.9917\n",
            "Epoch 00105: val_loss did not improve from 0.00857\n",
            "70/70 [==============================] - 28s 405ms/step - loss: 0.0110 - accuracy: 0.9721 - jaccard_distance: 0.3846 - dice_coef: 0.9917 - val_loss: 0.0090 - val_accuracy: 0.9778 - val_jaccard_distance: 0.3547 - val_dice_coef: 0.9937\n",
            "Epoch 106/200\n",
            "70/70 [==============================] - ETA: 0s - loss: 0.0109 - accuracy: 0.9722 - jaccard_distance: 0.3846 - dice_coef: 0.9917\n",
            "Epoch 00106: val_loss did not improve from 0.00857\n",
            "70/70 [==============================] - 28s 404ms/step - loss: 0.0109 - accuracy: 0.9722 - jaccard_distance: 0.3846 - dice_coef: 0.9917 - val_loss: 0.0087 - val_accuracy: 0.9788 - val_jaccard_distance: 0.3492 - val_dice_coef: 0.9939\n",
            "Epoch 107/200\n",
            "70/70 [==============================] - ETA: 0s - loss: 0.0109 - accuracy: 0.9724 - jaccard_distance: 0.3865 - dice_coef: 0.9918\n",
            "Epoch 00107: val_loss did not improve from 0.00857\n",
            "70/70 [==============================] - 28s 404ms/step - loss: 0.0109 - accuracy: 0.9724 - jaccard_distance: 0.3865 - dice_coef: 0.9918 - val_loss: 0.0087 - val_accuracy: 0.9788 - val_jaccard_distance: 0.3444 - val_dice_coef: 0.9939\n",
            "Epoch 108/200\n",
            "70/70 [==============================] - ETA: 0s - loss: 0.0106 - accuracy: 0.9729 - jaccard_distance: 0.3925 - dice_coef: 0.9920\n",
            "Epoch 00108: val_loss did not improve from 0.00857\n",
            "70/70 [==============================] - 28s 405ms/step - loss: 0.0106 - accuracy: 0.9729 - jaccard_distance: 0.3925 - dice_coef: 0.9920 - val_loss: 0.0087 - val_accuracy: 0.9785 - val_jaccard_distance: 0.3598 - val_dice_coef: 0.9939\n",
            "Epoch 109/200\n",
            "70/70 [==============================] - ETA: 0s - loss: 0.0109 - accuracy: 0.9724 - jaccard_distance: 0.3892 - dice_coef: 0.9918\n",
            "Epoch 00109: val_loss did not improve from 0.00857\n",
            "70/70 [==============================] - 28s 404ms/step - loss: 0.0109 - accuracy: 0.9724 - jaccard_distance: 0.3892 - dice_coef: 0.9918 - val_loss: 0.0087 - val_accuracy: 0.9786 - val_jaccard_distance: 0.3537 - val_dice_coef: 0.9939\n",
            "Epoch 110/200\n",
            "70/70 [==============================] - ETA: 0s - loss: 0.0105 - accuracy: 0.9732 - jaccard_distance: 0.3952 - dice_coef: 0.9921\n",
            "Epoch 00110: val_loss improved from 0.00857 to 0.00835, saving model to /content/drive/Shared drives/Ridhi and Vaishnavi/Final/segmentation-checkpoints/s-19.h5\n",
            "70/70 [==============================] - 30s 427ms/step - loss: 0.0105 - accuracy: 0.9732 - jaccard_distance: 0.3952 - dice_coef: 0.9921 - val_loss: 0.0083 - val_accuracy: 0.9795 - val_jaccard_distance: 0.3636 - val_dice_coef: 0.9943\n",
            "Epoch 111/200\n",
            "70/70 [==============================] - ETA: 0s - loss: 0.0107 - accuracy: 0.9728 - jaccard_distance: 0.3928 - dice_coef: 0.9920\n",
            "Epoch 00111: val_loss did not improve from 0.00835\n",
            "70/70 [==============================] - 28s 404ms/step - loss: 0.0107 - accuracy: 0.9728 - jaccard_distance: 0.3928 - dice_coef: 0.9920 - val_loss: 0.0084 - val_accuracy: 0.9793 - val_jaccard_distance: 0.3651 - val_dice_coef: 0.9943\n",
            "Epoch 112/200\n",
            "70/70 [==============================] - ETA: 0s - loss: 0.0105 - accuracy: 0.9732 - jaccard_distance: 0.3999 - dice_coef: 0.9921\n",
            "Epoch 00112: val_loss improved from 0.00835 to 0.00823, saving model to /content/drive/Shared drives/Ridhi and Vaishnavi/Final/segmentation-checkpoints/s-19.h5\n",
            "70/70 [==============================] - 30s 424ms/step - loss: 0.0105 - accuracy: 0.9732 - jaccard_distance: 0.3999 - dice_coef: 0.9921 - val_loss: 0.0082 - val_accuracy: 0.9795 - val_jaccard_distance: 0.3767 - val_dice_coef: 0.9944\n",
            "Epoch 113/200\n",
            "70/70 [==============================] - ETA: 0s - loss: 0.0104 - accuracy: 0.9733 - jaccard_distance: 0.4006 - dice_coef: 0.9922\n",
            "Epoch 00113: val_loss improved from 0.00823 to 0.00813, saving model to /content/drive/Shared drives/Ridhi and Vaishnavi/Final/segmentation-checkpoints/s-19.h5\n",
            "70/70 [==============================] - 30s 424ms/step - loss: 0.0104 - accuracy: 0.9733 - jaccard_distance: 0.4006 - dice_coef: 0.9922 - val_loss: 0.0081 - val_accuracy: 0.9800 - val_jaccard_distance: 0.3674 - val_dice_coef: 0.9945\n",
            "Epoch 114/200\n",
            "70/70 [==============================] - ETA: 0s - loss: 0.0105 - accuracy: 0.9732 - jaccard_distance: 0.4020 - dice_coef: 0.9921\n",
            "Epoch 00114: val_loss did not improve from 0.00813\n",
            "70/70 [==============================] - 28s 404ms/step - loss: 0.0105 - accuracy: 0.9732 - jaccard_distance: 0.4020 - dice_coef: 0.9921 - val_loss: 0.0086 - val_accuracy: 0.9787 - val_jaccard_distance: 0.3695 - val_dice_coef: 0.9941\n",
            "Epoch 115/200\n",
            "70/70 [==============================] - ETA: 0s - loss: 0.0105 - accuracy: 0.9733 - jaccard_distance: 0.4009 - dice_coef: 0.9922\n",
            "Epoch 00115: val_loss did not improve from 0.00813\n",
            "70/70 [==============================] - 28s 404ms/step - loss: 0.0105 - accuracy: 0.9733 - jaccard_distance: 0.4009 - dice_coef: 0.9922 - val_loss: 0.0093 - val_accuracy: 0.9776 - val_jaccard_distance: 0.3464 - val_dice_coef: 0.9936\n",
            "Epoch 116/200\n",
            "70/70 [==============================] - ETA: 0s - loss: 0.0128 - accuracy: 0.9688 - jaccard_distance: 0.3676 - dice_coef: 0.9904\n",
            "Epoch 00116: val_loss did not improve from 0.00813\n",
            "70/70 [==============================] - 28s 404ms/step - loss: 0.0128 - accuracy: 0.9688 - jaccard_distance: 0.3676 - dice_coef: 0.9904 - val_loss: 0.0090 - val_accuracy: 0.9786 - val_jaccard_distance: 0.3558 - val_dice_coef: 0.9939\n",
            "Epoch 117/200\n",
            "70/70 [==============================] - ETA: 0s - loss: 0.0109 - accuracy: 0.9728 - jaccard_distance: 0.3966 - dice_coef: 0.9919\n",
            "Epoch 00117: val_loss did not improve from 0.00813\n",
            "70/70 [==============================] - 28s 405ms/step - loss: 0.0109 - accuracy: 0.9728 - jaccard_distance: 0.3966 - dice_coef: 0.9919 - val_loss: 0.0102 - val_accuracy: 0.9751 - val_jaccard_distance: 0.3592 - val_dice_coef: 0.9926\n",
            "Epoch 118/200\n",
            "70/70 [==============================] - ETA: 0s - loss: 0.0108 - accuracy: 0.9729 - jaccard_distance: 0.3994 - dice_coef: 0.9920\n",
            "Epoch 00118: val_loss improved from 0.00813 to 0.00813, saving model to /content/drive/Shared drives/Ridhi and Vaishnavi/Final/segmentation-checkpoints/s-19.h5\n",
            "70/70 [==============================] - 30s 429ms/step - loss: 0.0108 - accuracy: 0.9729 - jaccard_distance: 0.3994 - dice_coef: 0.9920 - val_loss: 0.0081 - val_accuracy: 0.9799 - val_jaccard_distance: 0.3888 - val_dice_coef: 0.9946\n",
            "Epoch 119/200\n",
            "70/70 [==============================] - ETA: 0s - loss: 0.0102 - accuracy: 0.9741 - jaccard_distance: 0.4130 - dice_coef: 0.9925\n",
            "Epoch 00119: val_loss improved from 0.00813 to 0.00788, saving model to /content/drive/Shared drives/Ridhi and Vaishnavi/Final/segmentation-checkpoints/s-19.h5\n",
            "70/70 [==============================] - 30s 423ms/step - loss: 0.0102 - accuracy: 0.9741 - jaccard_distance: 0.4130 - dice_coef: 0.9925 - val_loss: 0.0079 - val_accuracy: 0.9806 - val_jaccard_distance: 0.3860 - val_dice_coef: 0.9948\n",
            "Epoch 120/200\n",
            "70/70 [==============================] - ETA: 0s - loss: 0.0101 - accuracy: 0.9741 - jaccard_distance: 0.4129 - dice_coef: 0.9925\n",
            "Epoch 00120: val_loss did not improve from 0.00788\n",
            "70/70 [==============================] - 28s 405ms/step - loss: 0.0101 - accuracy: 0.9741 - jaccard_distance: 0.4129 - dice_coef: 0.9925 - val_loss: 0.0085 - val_accuracy: 0.9786 - val_jaccard_distance: 0.3857 - val_dice_coef: 0.9941\n",
            "Epoch 121/200\n",
            "70/70 [==============================] - ETA: 0s - loss: 0.0101 - accuracy: 0.9742 - jaccard_distance: 0.4155 - dice_coef: 0.9925\n",
            "Epoch 00121: val_loss did not improve from 0.00788\n",
            "70/70 [==============================] - 28s 404ms/step - loss: 0.0101 - accuracy: 0.9742 - jaccard_distance: 0.4155 - dice_coef: 0.9925 - val_loss: 0.0100 - val_accuracy: 0.9754 - val_jaccard_distance: 0.3580 - val_dice_coef: 0.9927\n",
            "Epoch 122/200\n",
            "70/70 [==============================] - ETA: 0s - loss: 0.0101 - accuracy: 0.9742 - jaccard_distance: 0.4156 - dice_coef: 0.9926\n",
            "Epoch 00122: val_loss did not improve from 0.00788\n",
            "70/70 [==============================] - 28s 405ms/step - loss: 0.0101 - accuracy: 0.9742 - jaccard_distance: 0.4156 - dice_coef: 0.9926 - val_loss: 0.0082 - val_accuracy: 0.9800 - val_jaccard_distance: 0.3848 - val_dice_coef: 0.9945\n",
            "Epoch 123/200\n",
            "70/70 [==============================] - ETA: 0s - loss: 0.0101 - accuracy: 0.9742 - jaccard_distance: 0.4165 - dice_coef: 0.9926\n",
            "Epoch 00123: val_loss improved from 0.00788 to 0.00780, saving model to /content/drive/Shared drives/Ridhi and Vaishnavi/Final/segmentation-checkpoints/s-19.h5\n",
            "70/70 [==============================] - 30s 425ms/step - loss: 0.0101 - accuracy: 0.9742 - jaccard_distance: 0.4165 - dice_coef: 0.9926 - val_loss: 0.0078 - val_accuracy: 0.9806 - val_jaccard_distance: 0.3945 - val_dice_coef: 0.9948\n",
            "Epoch 124/200\n",
            "70/70 [==============================] - ETA: 0s - loss: 0.0098 - accuracy: 0.9748 - jaccard_distance: 0.4239 - dice_coef: 0.9928\n",
            "Epoch 00124: val_loss did not improve from 0.00780\n",
            "70/70 [==============================] - 28s 404ms/step - loss: 0.0098 - accuracy: 0.9748 - jaccard_distance: 0.4239 - dice_coef: 0.9928 - val_loss: 0.0079 - val_accuracy: 0.9803 - val_jaccard_distance: 0.3935 - val_dice_coef: 0.9947\n",
            "Epoch 125/200\n",
            "70/70 [==============================] - ETA: 0s - loss: 0.0096 - accuracy: 0.9752 - jaccard_distance: 0.4287 - dice_coef: 0.9930\n",
            "Epoch 00125: val_loss did not improve from 0.00780\n",
            "70/70 [==============================] - 28s 404ms/step - loss: 0.0096 - accuracy: 0.9752 - jaccard_distance: 0.4287 - dice_coef: 0.9930 - val_loss: 0.0083 - val_accuracy: 0.9801 - val_jaccard_distance: 0.3730 - val_dice_coef: 0.9943\n",
            "Epoch 126/200\n",
            "70/70 [==============================] - ETA: 0s - loss: 0.0099 - accuracy: 0.9745 - jaccard_distance: 0.4218 - dice_coef: 0.9927\n",
            "Epoch 00126: val_loss did not improve from 0.00780\n",
            "70/70 [==============================] - 28s 404ms/step - loss: 0.0099 - accuracy: 0.9745 - jaccard_distance: 0.4218 - dice_coef: 0.9927 - val_loss: 0.0083 - val_accuracy: 0.9795 - val_jaccard_distance: 0.3812 - val_dice_coef: 0.9943\n",
            "Epoch 127/200\n",
            "70/70 [==============================] - ETA: 0s - loss: 0.0097 - accuracy: 0.9749 - jaccard_distance: 0.4266 - dice_coef: 0.9929\n",
            "Epoch 00127: val_loss did not improve from 0.00780\n",
            "70/70 [==============================] - 28s 405ms/step - loss: 0.0097 - accuracy: 0.9749 - jaccard_distance: 0.4266 - dice_coef: 0.9929 - val_loss: 0.0080 - val_accuracy: 0.9801 - val_jaccard_distance: 0.3910 - val_dice_coef: 0.9946\n",
            "Epoch 128/200\n",
            "70/70 [==============================] - ETA: 0s - loss: 0.0096 - accuracy: 0.9751 - jaccard_distance: 0.4301 - dice_coef: 0.9929\n",
            "Epoch 00128: val_loss did not improve from 0.00780\n",
            "70/70 [==============================] - 28s 404ms/step - loss: 0.0096 - accuracy: 0.9751 - jaccard_distance: 0.4301 - dice_coef: 0.9929 - val_loss: 0.0080 - val_accuracy: 0.9799 - val_jaccard_distance: 0.3967 - val_dice_coef: 0.9945\n",
            "Epoch 129/200\n",
            "70/70 [==============================] - ETA: 0s - loss: 0.0096 - accuracy: 0.9752 - jaccard_distance: 0.4353 - dice_coef: 0.9930\n",
            "Epoch 00129: val_loss improved from 0.00780 to 0.00777, saving model to /content/drive/Shared drives/Ridhi and Vaishnavi/Final/segmentation-checkpoints/s-19.h5\n",
            "70/70 [==============================] - 30s 424ms/step - loss: 0.0096 - accuracy: 0.9752 - jaccard_distance: 0.4353 - dice_coef: 0.9930 - val_loss: 0.0078 - val_accuracy: 0.9806 - val_jaccard_distance: 0.4057 - val_dice_coef: 0.9948\n",
            "Epoch 130/200\n",
            "70/70 [==============================] - ETA: 0s - loss: 0.0094 - accuracy: 0.9755 - jaccard_distance: 0.4350 - dice_coef: 0.9932\n",
            "Epoch 00130: val_loss improved from 0.00777 to 0.00740, saving model to /content/drive/Shared drives/Ridhi and Vaishnavi/Final/segmentation-checkpoints/s-19.h5\n",
            "70/70 [==============================] - 30s 423ms/step - loss: 0.0094 - accuracy: 0.9755 - jaccard_distance: 0.4350 - dice_coef: 0.9932 - val_loss: 0.0074 - val_accuracy: 0.9817 - val_jaccard_distance: 0.4086 - val_dice_coef: 0.9952\n",
            "Epoch 131/200\n",
            "70/70 [==============================] - ETA: 0s - loss: 0.0098 - accuracy: 0.9748 - jaccard_distance: 0.4261 - dice_coef: 0.9928\n",
            "Epoch 00131: val_loss did not improve from 0.00740\n",
            "70/70 [==============================] - 28s 404ms/step - loss: 0.0098 - accuracy: 0.9748 - jaccard_distance: 0.4261 - dice_coef: 0.9928 - val_loss: 0.0075 - val_accuracy: 0.9813 - val_jaccard_distance: 0.4012 - val_dice_coef: 0.9950\n",
            "Epoch 132/200\n",
            "70/70 [==============================] - ETA: 0s - loss: 0.0095 - accuracy: 0.9754 - jaccard_distance: 0.4348 - dice_coef: 0.9931\n",
            "Epoch 00132: val_loss did not improve from 0.00740\n",
            "70/70 [==============================] - 28s 404ms/step - loss: 0.0095 - accuracy: 0.9754 - jaccard_distance: 0.4348 - dice_coef: 0.9931 - val_loss: 0.0083 - val_accuracy: 0.9798 - val_jaccard_distance: 0.3833 - val_dice_coef: 0.9943\n",
            "Epoch 133/200\n",
            "70/70 [==============================] - ETA: 0s - loss: 0.0094 - accuracy: 0.9756 - jaccard_distance: 0.4383 - dice_coef: 0.9932\n",
            "Epoch 00133: val_loss did not improve from 0.00740\n",
            "70/70 [==============================] - 28s 404ms/step - loss: 0.0094 - accuracy: 0.9756 - jaccard_distance: 0.4383 - dice_coef: 0.9932 - val_loss: 0.0091 - val_accuracy: 0.9776 - val_jaccard_distance: 0.3769 - val_dice_coef: 0.9934\n",
            "Epoch 134/200\n",
            "70/70 [==============================] - ETA: 0s - loss: 0.0094 - accuracy: 0.9756 - jaccard_distance: 0.4380 - dice_coef: 0.9932\n",
            "Epoch 00134: val_loss did not improve from 0.00740\n",
            "70/70 [==============================] - 28s 404ms/step - loss: 0.0094 - accuracy: 0.9756 - jaccard_distance: 0.4380 - dice_coef: 0.9932 - val_loss: 0.0077 - val_accuracy: 0.9808 - val_jaccard_distance: 0.4028 - val_dice_coef: 0.9949\n",
            "Epoch 135/200\n",
            "70/70 [==============================] - ETA: 0s - loss: 0.0098 - accuracy: 0.9746 - jaccard_distance: 0.4278 - dice_coef: 0.9928\n",
            "Epoch 00135: val_loss did not improve from 0.00740\n",
            "70/70 [==============================] - 28s 405ms/step - loss: 0.0098 - accuracy: 0.9746 - jaccard_distance: 0.4278 - dice_coef: 0.9928 - val_loss: 0.0094 - val_accuracy: 0.9770 - val_jaccard_distance: 0.3783 - val_dice_coef: 0.9933\n",
            "Epoch 136/200\n",
            "70/70 [==============================] - ETA: 0s - loss: 0.0100 - accuracy: 0.9746 - jaccard_distance: 0.4271 - dice_coef: 0.9928\n",
            "Epoch 00136: val_loss did not improve from 0.00740\n",
            "70/70 [==============================] - 28s 406ms/step - loss: 0.0100 - accuracy: 0.9746 - jaccard_distance: 0.4271 - dice_coef: 0.9928 - val_loss: 0.0084 - val_accuracy: 0.9801 - val_jaccard_distance: 0.3815 - val_dice_coef: 0.9943\n",
            "Epoch 137/200\n",
            "70/70 [==============================] - ETA: 0s - loss: 0.0099 - accuracy: 0.9749 - jaccard_distance: 0.4304 - dice_coef: 0.9929\n",
            "Epoch 00137: val_loss did not improve from 0.00740\n",
            "70/70 [==============================] - 29s 411ms/step - loss: 0.0099 - accuracy: 0.9749 - jaccard_distance: 0.4304 - dice_coef: 0.9929 - val_loss: 0.0077 - val_accuracy: 0.9814 - val_jaccard_distance: 0.4017 - val_dice_coef: 0.9950\n",
            "Epoch 138/200\n",
            "70/70 [==============================] - ETA: 0s - loss: 0.0093 - accuracy: 0.9760 - jaccard_distance: 0.4426 - dice_coef: 0.9934\n",
            "Epoch 00138: val_loss did not improve from 0.00740\n",
            "70/70 [==============================] - 29s 408ms/step - loss: 0.0093 - accuracy: 0.9760 - jaccard_distance: 0.4426 - dice_coef: 0.9934 - val_loss: 0.0081 - val_accuracy: 0.9798 - val_jaccard_distance: 0.3967 - val_dice_coef: 0.9945\n",
            "Epoch 139/200\n",
            "70/70 [==============================] - ETA: 0s - loss: 0.0091 - accuracy: 0.9763 - jaccard_distance: 0.4471 - dice_coef: 0.9935\n",
            "Epoch 00139: val_loss did not improve from 0.00740\n",
            "70/70 [==============================] - 29s 409ms/step - loss: 0.0091 - accuracy: 0.9763 - jaccard_distance: 0.4471 - dice_coef: 0.9935 - val_loss: 0.0078 - val_accuracy: 0.9807 - val_jaccard_distance: 0.4105 - val_dice_coef: 0.9948\n",
            "Epoch 140/200\n",
            "70/70 [==============================] - ETA: 0s - loss: 0.0090 - accuracy: 0.9765 - jaccard_distance: 0.4534 - dice_coef: 0.9936\n",
            "Epoch 00140: val_loss did not improve from 0.00740\n",
            "70/70 [==============================] - 29s 410ms/step - loss: 0.0090 - accuracy: 0.9765 - jaccard_distance: 0.4534 - dice_coef: 0.9936 - val_loss: 0.0078 - val_accuracy: 0.9808 - val_jaccard_distance: 0.4019 - val_dice_coef: 0.9948\n",
            "Epoch 00140: early stopping\n"
          ],
          "name": "stdout"
        }
      ]
    },
    {
      "cell_type": "markdown",
      "metadata": {
        "id": "dQGpj7L9NgjJ",
        "colab_type": "text"
      },
      "source": [
        "EVALUATION"
      ]
    },
    {
      "cell_type": "code",
      "metadata": {
        "id": "8SjeQSV_etqU",
        "colab_type": "code",
        "colab": {}
      },
      "source": [
        "TP , Union , FP , FN = list() , list() , list() ,list()"
      ],
      "execution_count": 22,
      "outputs": []
    },
    {
      "cell_type": "code",
      "metadata": {
        "id": "1uDyDfqZfIC6",
        "colab_type": "code",
        "colab": {}
      },
      "source": [
        "for i in range(64):\n",
        "  x= X_test[i].reshape(-1,256,256,1)\n",
        "  y= y_test[i].reshape(-1,256,256,1)\n",
        "  #print(y_test.shape)\n",
        "  pred = model.predict(x,batch_size=1)\n",
        "  pred_t = (pred > 0.5).astype(np.uint8)\n",
        "  #img= pred_t.reshape(256,256,1)\n",
        "  #img= array_to_img(img)\n",
        "  #cv2.imwrite(\"\")\n",
        "  tp = np.sum(np.logical_and(y,pred_t))\n",
        "  fp = np.sum(np.logical_and((np.logical_not(y)),pred_t))\n",
        "  fn = np.sum(np.logical_and(y,(np.logical_not(pred_t))))\n",
        "  union = np.sum(np.logical_or(y, pred_t))\n",
        "  TP.append(tp)\n",
        "  FP.append(fp)\n",
        "  FN.append(fn)\n",
        "  Union.append(union)"
      ],
      "execution_count": 24,
      "outputs": []
    },
    {
      "cell_type": "code",
      "metadata": {
        "id": "tANv7hthfMuT",
        "colab_type": "code",
        "colab": {}
      },
      "source": [
        "Tp = np.mean(TP)\n",
        "Fp = np.mean(FP)\n",
        "Fn = np.mean(FN)\n",
        "Tn = 256*256 - (Tp+Fp+Fn)\n",
        "\n",
        "dice_coef = 2*Tp/(Tp+Fn+Tp+Fn)\n",
        "dice_loss=1-2*Tp/(Tp+Fn+Tp+Fn)\n",
        "accuracy=(Tp+Tn)/(Tp+Tn+Fp+Fn)\n",
        "precision=Tp/(Tp+Fp)\n",
        "recall=Tp/(Tp+Fn)\n",
        "sensitivity=recall\n",
        "F1= (2*precision*recall)/(precision+recall)\n",
        "Jaccard = Tp/(Tp+Fp+Fn)\n",
        "specificity=Tn/(Fp+Tn)"
      ],
      "execution_count": 26,
      "outputs": []
    },
    {
      "cell_type": "code",
      "metadata": {
        "id": "xnsTqWHJfb4H",
        "colab_type": "code",
        "colab": {
          "base_uri": "https://localhost:8080/",
          "height": 67
        },
        "outputId": "b8cd5ec8-8274-46c8-d73f-2951e2ecbe17"
      },
      "source": [
        "print(f'dice_coef = {dice_coef}')\n",
        "print(f'jaccard_index = {Jaccard}')\n",
        "print(f'F1_score = {F1}')"
      ],
      "execution_count": 27,
      "outputs": [
        {
          "output_type": "stream",
          "text": [
            "dice_coef = 0.6786825216520243\n",
            "jaccard_index = 0.6241118809611961\n",
            "F1_score = 0.7685577431917173\n"
          ],
          "name": "stdout"
        }
      ]
    },
    {
      "cell_type": "code",
      "metadata": {
        "id": "5DUEmuorLXis",
        "colab_type": "code",
        "colab": {
          "base_uri": "https://localhost:8080/",
          "height": 118
        },
        "outputId": "fdee9de9-82dc-4ba3-ac56-72bc5fcec154"
      },
      "source": [
        "print(f\"precision = {precision}\")\n",
        "print(f\"recall = {recall}\")\n",
        "print(f'sensitivity = {sensitivity}')\n",
        "print(f'specificity = {specificity}')\n",
        "print(f'dice_loss = {dice_loss}')\n",
        "print(f'accuracy = {accuracy}')"
      ],
      "execution_count": 45,
      "outputs": [
        {
          "output_type": "stream",
          "text": [
            "precision = 0.8858699732238933\n",
            "recall = 0.6786825216520243\n",
            "sensitivity = 0.6786825216520243\n",
            "specificity = 0.995422844329789\n",
            "dice_loss = 0.32131747834797575\n",
            "accuracy = 0.9796669483184814\n"
          ],
          "name": "stdout"
        }
      ]
    },
    {
      "cell_type": "markdown",
      "metadata": {
        "id": "8U5vOv6VNj37",
        "colab_type": "text"
      },
      "source": [
        "TESTING"
      ]
    },
    {
      "cell_type": "code",
      "metadata": {
        "id": "IGvaZ2GG6GSE",
        "colab_type": "code",
        "colab": {}
      },
      "source": [
        "# saving all the generated masks out of test images in a separate folder\n",
        "for i in range(64):\n",
        "  x1= X_test[i].reshape(-1,256,256,1)\n",
        "  y1= y_test[i].reshape(-1,256,256,1)\n",
        "  pred1 = model.predict(x1,batch_size=1)\n",
        "  pred_t1 = (pred1 > 0.5).astype(np.uint8)\n",
        "  img= pred_t1.reshape(256,256,1)\n",
        "  img= array_to_img(img)\n",
        "  img.save(f\"/content/drive/Shared drives/Ridhi and Vaishnavi/dataset_new1/segmentation_normal/test/pred-1/{i}.png\")\n"
      ],
      "execution_count": 32,
      "outputs": []
    },
    {
      "cell_type": "code",
      "metadata": {
        "id": "MdsgQ6FMF2Uz",
        "colab_type": "code",
        "colab": {
          "base_uri": "https://localhost:8080/",
          "height": 262
        },
        "outputId": "5a88bfe1-c3af-419f-bbb3-e552fbd9e14f"
      },
      "source": [
        "# displaying breast ultrasound image, ground truth and generated mask\n",
        "fig=plt.figure(figsize=(12,16))\n",
        "A= X_test[0].reshape(256,256,1)\n",
        "A= array_to_img(A)\n",
        "plt.subplot(1,3,1)\n",
        "plt.axis(\"off\")\n",
        "plt.title(\"image\")\n",
        "plt.imshow(A,cmap=\"gray\")\n",
        "\n",
        "B= y_test[0].reshape(256,256,1)\n",
        "B= array_to_img(B)\n",
        "plt.subplot(1,3,2)\n",
        "plt.axis(\"off\")\n",
        "plt.title(\"mask\")\n",
        "plt.imshow(B,cmap=\"gray\")\n",
        "\n",
        "pred1 = model.predict(X_test[0].reshape(-1,256,256,1),batch_size=1)\n",
        "pred_t1 = (pred1 > 0.5).astype(np.uint8)\n",
        "\n",
        "\n",
        "C= pred_t1.reshape(256,256,1)\n",
        "C= array_to_img(C)\n",
        "plt.subplot(1,3,3)\n",
        "plt.axis(\"off\")\n",
        "plt.title(\"generated\")\n",
        "plt.imshow(C,cmap=\"gray\")\n"
      ],
      "execution_count": 43,
      "outputs": [
        {
          "output_type": "execute_result",
          "data": {
            "text/plain": [
              "<matplotlib.image.AxesImage at 0x7fac74135b70>"
            ]
          },
          "metadata": {
            "tags": []
          },
          "execution_count": 43
        },
        {
          "output_type": "display_data",
          "data": {
            "image/png": "[encoded data removed]",
            "text/plain": [
              "<Figure size 864x1152 with 3 Axes>"
            ]
          },
          "metadata": {
            "tags": [],
            "needs_background": "light"
          }
        }
      ]
    },
    {
      "cell_type": "code",
      "metadata": {
        "id": "3zqgNsDVKIcN",
        "colab_type": "code",
        "colab": {
          "base_uri": "https://localhost:8080/",
          "height": 34
        },
        "outputId": "c0897325-ead5-4402-9526-6e8dbcef94e5"
      },
      "source": [
        "# checking if the model is loading and working\n",
        "m = load_model(\"/content/drive/Shared drives/Ridhi and Vaishnavi/Final/segmentation-checkpoints/s-19.h5\", custom_objects={'dice_loss': dice_loss , 'jaccard_distance':jaccard_distance ,'dice_coef':dice_coef} )"
      ],
      "execution_count": 41,
      "outputs": [
        {
          "output_type": "stream",
          "text": [
            "WARNING:tensorflow:Compiled the loaded model, but the compiled metrics have yet to be built. `model.compile_metrics` will be empty until you train or evaluate the model.\n"
          ],
          "name": "stdout"
        }
      ]
    },
    {
      "cell_type": "code",
      "metadata": {
        "id": "m3BwAXZ-I5A4",
        "colab_type": "code",
        "colab": {
          "base_uri": "https://localhost:8080/",
          "height": 262
        },
        "outputId": "23bc14c5-d40e-4181-8df0-13ab0100035f"
      },
      "source": [
        "fig=plt.figure(figsize=(12,16))\n",
        "A= X_test[5].reshape(256,256,1)\n",
        "A= array_to_img(A)\n",
        "plt.subplot(1,3,1)\n",
        "plt.axis(\"off\")\n",
        "plt.title(\"image\")\n",
        "plt.imshow(A,cmap=\"gray\")\n",
        "\n",
        "B= y_test[5].reshape(256,256,1)\n",
        "B= array_to_img(B)\n",
        "plt.subplot(1,3,2)\n",
        "plt.axis(\"off\")\n",
        "plt.title(\"ground truth\")\n",
        "plt.imshow(B,cmap=\"gray\")\n",
        "\n",
        "pred1 = m.predict(X_test[5].reshape(-1,256,256,1),batch_size=1)\n",
        "pred_t1 = (pred1 > 0.5).astype(np.uint8)\n",
        "\n",
        "\n",
        "C= pred_t1.reshape(256,256,1)\n",
        "C= array_to_img(C)\n",
        "plt.subplot(1,3,3)\n",
        "plt.axis(\"off\")\n",
        "plt.title(\"generated mask\")\n",
        "plt.imshow(C,cmap=\"gray\")"
      ],
      "execution_count": 44,
      "outputs": [
        {
          "output_type": "execute_result",
          "data": {
            "text/plain": [
              "<matplotlib.image.AxesImage at 0x7faa53873940>"
            ]
          },
          "metadata": {
            "tags": []
          },
          "execution_count": 44
        },
        {
          "output_type": "display_data",
          "data": {
            "image/png": "[encoded data removed]",
            "text/plain": [
              "<Figure size 864x1152 with 3 Axes>"
            ]
          },
          "metadata": {
            "tags": [],
            "needs_background": "light"
          }
        }
      ]
    },
    {
      "cell_type": "code",
      "metadata": {
        "id": "lPtXxd4zKtcz",
        "colab_type": "code",
        "colab": {}
      },
      "source": [
        ""
      ],
      "execution_count": null,
      "outputs": []
    }
  ]
}